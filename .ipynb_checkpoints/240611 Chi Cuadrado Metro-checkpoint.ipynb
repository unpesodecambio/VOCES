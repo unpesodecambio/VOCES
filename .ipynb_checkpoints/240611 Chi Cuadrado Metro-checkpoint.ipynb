{
 "cells": [
  {
   "cell_type": "code",
   "execution_count": 1,
   "id": "c1e2e7db-f8f9-4b9d-8267-970ecf65cfd7",
   "metadata": {},
   "outputs": [],
   "source": [
    "import geopandas as gpd\n",
    "import pandas as pd\n",
    "import fiona"
   ]
  },
  {
   "cell_type": "code",
   "execution_count": 2,
   "id": "81b6c155-f450-4192-9ea5-7ed0d87f16db",
   "metadata": {},
   "outputs": [
    {
     "name": "stdout",
     "output_type": "stream",
     "text": [
      "Capas disponibles en el geopackage: ['Mzn_Subtipologias_UeEq', 'Mzn_Subtipologias_UeEq_filtrado']\n",
      "             CVEGEO  POPTOT2010  POPTOT2020  VIVTOT2010  VIVTOT2020  \\\n",
      "0  0100100010229006          25          26           8          10   \n",
      "1  0100100010229007          99          56          18          14   \n",
      "2  0100100010229008          78          46          20          22   \n",
      "3  0100100010229010         134         114          51          51   \n",
      "4  0100100010233006           1           1           1           2   \n",
      "\n",
      "   TVIVHAB2010  TVIVHAB2020  TVIVPAR2010  TVIVPAR2020  TVIVPARHAB2010  ...  \\\n",
      "0            1            9            1           10               1  ...   \n",
      "1            1           14            1           14               1  ...   \n",
      "2            1           18            1           21               1  ...   \n",
      "3            1           48            1           51               1  ...   \n",
      "4            1            1            1            1               1  ...   \n",
      "\n",
      "   SUBTIPOLOGÍA_ue  num_edu  num_sal  num_rec  num_ser  IMP_EDU  IMP_SAL  \\\n",
      "0             C2-0        0        0        0        0    336.0     46.0   \n",
      "1         C2-MICRO        0        0        0        0    342.0     44.0   \n",
      "2         C2-MICRO        0        0        0        0    336.0     46.0   \n",
      "3         B1-MICRO        0        0        0        0    345.0     46.0   \n",
      "4         C2-MICRO        0        0        0        0    393.0     46.0   \n",
      "\n",
      "   IMP_REC  IMP_SER    FILTRADO  \n",
      "0    116.0    284.0  176.620310  \n",
      "1    118.0    287.0   42.460895  \n",
      "2    118.0    289.0   94.490004  \n",
      "3    120.0    292.0   73.522934  \n",
      "4    122.0    284.0    0.336859  \n",
      "\n",
      "[5 rows x 91 columns]\n"
     ]
    }
   ],
   "source": [
    "# Ruta del archivo geopackage\n",
    "archivo_gpkg = r\"C:\\Users\\ADMIN\\Desktop\\Ejercicio\\Completo\\Mzn_Tipologías_NAC_ImpEq.gpkg\"\n",
    "\n",
    "# Listar todas las capas en el geopackage\n",
    "capas = fiona.listlayers(archivo_gpkg)\n",
    "print(\"Capas disponibles en el geopackage:\", capas)\n",
    "\n",
    "# Leer una capa específica en formato tabular (sin información vectorial)\n",
    "# Aquí, reemplaza \"Mzn_Subtipologias_UeEq_filtrado\" con el nombre de la capa que deseas cargar\n",
    "df = gpd.read_file(archivo_gpkg, layer=\"Mzn_Subtipologias_UeEq_filtrado\")\n",
    "\n",
    "# Convertir a un DataFrame de Pandas si solo necesitas la información tabular\n",
    "df = pd.DataFrame(df.drop(columns='geometry'))\n",
    "\n",
    "# Mostrar el contenido de la tabla\n",
    "print(df.head())"
   ]
  },
  {
   "cell_type": "code",
   "execution_count": 3,
   "id": "27c10b20-4186-40af-8fcf-9314dbf2b9c4",
   "metadata": {},
   "outputs": [],
   "source": [
    "import pandas as pd\n",
    "from scipy.stats import chi2_contingency\n",
    "import unicodedata\n",
    "import re"
   ]
  },
  {
   "cell_type": "code",
   "execution_count": 6,
   "id": "6a4e64fc-dc0c-438b-99e8-d02074b729ea",
   "metadata": {},
   "outputs": [
    {
     "name": "stdout",
     "output_type": "stream",
     "text": [
      "Las tablas de contingencia, residuos estandarizados y porcentajes se han exportado a C:\\Users\\ADMIN\\Desktop\\tabla_contingencia_y_residuos_combinados.xlsx\n"
     ]
    }
   ],
   "source": [
    "# Función para limpiar nombres eliminando acentos y caracteres no permitidos\n",
    "def limpiar_nombre(nombre):\n",
    "    nombre = unicodedata.normalize(\"NFKD\", nombre)\n",
    "    nombre_sin_acentos = \"\".join([c for c in nombre if not unicodedata.combining(c)])\n",
    "    nombre_limpio = nombre_sin_acentos.replace(\" \", \"_\")\n",
    "    return nombre_limpio[:31]\n",
    "\n",
    "# Función para calcular la tabla de contingencia, residuos estandarizados y porcentajes\n",
    "def calcular_tabla_residuos_porcentajes(df_filtrado):\n",
    "    tabla_contingencia = pd.crosstab(df_filtrado['TIPOLOGIA'], df_filtrado['TIPOLOGIA_ue'])\n",
    "    tabla_porcentajes = tabla_contingencia / tabla_contingencia.values.sum() * 100\n",
    "    chi2_met, p_met, dof_met, expected_met = chi2_contingency(tabla_contingencia)\n",
    "    frecuencias_esperadas_met = pd.DataFrame(expected_met, index=tabla_contingencia.index, columns=tabla_contingencia.columns)\n",
    "    residuos_estandarizados_met = (tabla_contingencia - frecuencias_esperadas_met) / frecuencias_esperadas_met**0.5\n",
    "    return tabla_contingencia, residuos_estandarizados_met, tabla_porcentajes\n",
    "\n",
    "# Crear diccionario para almacenar las tablas por TIPO_MET\n",
    "tablas_por_tipo_met = {}\n",
    "\n",
    "# Cálculo total (sin filtro)\n",
    "tabla_total, residuos_total, porcentajes_total = calcular_tabla_residuos_porcentajes(df)\n",
    "\n",
    "# Agrupamiento por TIPO_MET\n",
    "tipos_met = df['TIPO_MET'].unique()\n",
    "for tipo in tipos_met:\n",
    "    df_filtrado_tipo_met = df[df['TIPO_MET'] == tipo]\n",
    "    tabla_tipo_met, residuos_tipo_met, porcentajes_tipo_met = calcular_tabla_residuos_porcentajes(df_filtrado_tipo_met)\n",
    "    tablas_por_tipo_met[tipo] = {\n",
    "        'tabla': tabla_tipo_met,\n",
    "        'residuos_estandarizados': residuos_tipo_met,\n",
    "        'porcentajes': porcentajes_tipo_met\n",
    "    }\n",
    "\n",
    "    # Agrupamiento por NOM_MET dentro de cada TIPO_MET\n",
    "    nom_met_values = df_filtrado_tipo_met['NOM_MET'].unique()\n",
    "    for nom_met in nom_met_values:\n",
    "        df_filtrado_nom_met = df_filtrado_tipo_met[df_filtrado_tipo_met['NOM_MET'] == nom_met]\n",
    "        tabla_nom_met, residuos_nom_met, porcentajes_nom_met = calcular_tabla_residuos_porcentajes(df_filtrado_nom_met)\n",
    "        \n",
    "        # Almacenar tablas de NOM_MET dentro del tipo actual\n",
    "        tablas_por_tipo_met[tipo][nom_met] = {\n",
    "            'tabla': tabla_nom_met,\n",
    "            'residuos_estandarizados': residuos_nom_met,\n",
    "            'porcentajes': porcentajes_nom_met\n",
    "        }\n",
    "\n",
    "# Exportar a Excel\n",
    "output_file = r'C:\\Users\\ADMIN\\Desktop\\tabla_contingencia_y_residuos_combinados.xlsx'\n",
    "with pd.ExcelWriter(output_file) as writer:\n",
    "    # Guardar el cálculo principal (total)\n",
    "    sheet_name_total = \"Contingencia_Total\"\n",
    "    tabla_total.to_excel(writer, sheet_name=sheet_name_total, index=True)\n",
    "    start_row = len(tabla_total) + 2\n",
    "    residuos_total.to_excel(writer, sheet_name=sheet_name_total, startrow=start_row, index=True)\n",
    "    start_row += len(residuos_total) + 2\n",
    "    porcentajes_total.to_excel(writer, sheet_name=sheet_name_total, startrow=start_row, index=True)\n",
    "    \n",
    "    # Guardar cálculo por TIPO_MET\n",
    "    for tipo, data in tablas_por_tipo_met.items():\n",
    "        sheet_name_tipo_met = f'TCR_{limpiar_nombre(str(tipo))}'\n",
    "        data['tabla'].to_excel(writer, sheet_name=sheet_name_tipo_met, index=True)\n",
    "        start_row = len(data['tabla']) + 2\n",
    "        data['residuos_estandarizados'].to_excel(writer, sheet_name=sheet_name_tipo_met, startrow=start_row, index=True)\n",
    "        start_row += len(data['residuos_estandarizados']) + 2\n",
    "        data['porcentajes'].to_excel(writer, sheet_name=sheet_name_tipo_met, startrow=start_row, index=True)\n",
    "        \n",
    "        # Guardar cálculo por NOM_MET dentro de cada TIPO_MET\n",
    "        for nom_met, nom_met_data in data.items():\n",
    "            if isinstance(nom_met, str) and nom_met not in ['tabla', 'residuos_estandarizados', 'porcentajes']:\n",
    "                sheet_name_nom_met = f'TCR_{limpiar_nombre(str(nom_met))}'\n",
    "                nom_met_data['tabla'].to_excel(writer, sheet_name=sheet_name_nom_met, index=True)\n",
    "                start_row = len(nom_met_data['tabla']) + 2\n",
    "                nom_met_data['residuos_estandarizados'].to_excel(writer, sheet_name=sheet_name_nom_met, startrow=start_row, index=True)\n",
    "                start_row += len(nom_met_data['residuos_estandarizados']) + 2\n",
    "                nom_met_data['porcentajes'].to_excel(writer, sheet_name=sheet_name_nom_met, startrow=start_row, index=True)\n",
    "\n",
    "print(f\"Las tablas de contingencia, residuos estandarizados y porcentajes se han exportado a {output_file}\")"
   ]
  },
  {
   "cell_type": "code",
   "execution_count": null,
   "id": "9b205734-a91e-4dc4-836c-0f2afa1ae83c",
   "metadata": {},
   "outputs": [],
   "source": []
  }
 ],
 "metadata": {
  "kernelspec": {
   "display_name": "Python 3 (ipykernel)",
   "language": "python",
   "name": "python3"
  },
  "language_info": {
   "codemirror_mode": {
    "name": "ipython",
    "version": 3
   },
   "file_extension": ".py",
   "mimetype": "text/x-python",
   "name": "python",
   "nbconvert_exporter": "python",
   "pygments_lexer": "ipython3",
   "version": "3.11.3"
  }
 },
 "nbformat": 4,
 "nbformat_minor": 5
}
