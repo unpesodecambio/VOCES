{
 "cells": [
  {
   "cell_type": "code",
   "execution_count": 24,
   "id": "a9561a35-7e66-4b75-809f-0e55dd2e3603",
   "metadata": {},
   "outputs": [],
   "source": [
    "import geopandas as gpd\n",
    "import pandas as pd\n",
    "import numpy as np\n",
    "from scipy import stats"
   ]
  },
  {
   "cell_type": "code",
   "execution_count": 7,
   "id": "eee546f2-c1f5-41d4-8b10-ee604d12a648",
   "metadata": {},
   "outputs": [],
   "source": [
    "####### Crear la capa en QGIS, con el siguiente código\n",
    "\n",
    "from qgis.core import (\n",
    "    QgsProject,\n",
    "    QgsVectorLayer,\n",
    "    QgsFeatureRequest,\n",
    "    QgsProcessingFeedback,\n",
    "    QgsField,\n",
    "    QgsVectorFileWriter\n",
    ")\n",
    "from PyQt5.QtCore import QVariant\n",
    "import processing\n",
    "\n",
    "# Obtener la capa activa\n",
    "urban_layer = iface.activeLayer()\n",
    "if not urban_layer or not urban_layer.isValid():\n",
    "    print(\"Error al obtener la capa activa\")\n",
    "    exit()\n",
    "\n",
    "# Verificar el nombre del campo NOM_MET\n",
    "field_names = [field.name() for field in urban_layer.fields()]\n",
    "if 'NOM_MET' not in field_names:\n",
    "    print(\"La capa activa no tiene el campo 'NOM_MET'. Campos disponibles:\", field_names)\n",
    "    exit()\n",
    "    \n",
    "# Crear una capa vacía para las cuadrículas combinadas\n",
    "grid_layer = QgsVectorLayer(\"Polygon?crs=EPSG:6372\", \"Combined Grid\", \"memory\")\n",
    "grid_provider = grid_layer.dataProvider()\n",
    "\n",
    "# Agregar el campo NOM_MET a la capa de cuadrícula combinada\n",
    "grid_provider.addAttributes([QgsField(\"NOM_MET\", QVariant.String)])\n",
    "grid_layer.updateFields()\n",
    "\n",
    "# Obtener los nombres de las ciudades\n",
    "cities = urban_layer.uniqueValues(urban_layer.fields().indexOf(\"NOM_MET\"))\n",
    "\n",
    "# Parámetros de la cuadrícula hexagonal\n",
    "hex_size = 1200  # Tamaño del hexágono en metros\n",
    "\n",
    "# Feedback para el procesamiento\n",
    "feedback = QgsProcessingFeedback()\n",
    "\n",
    "for city in cities:\n",
    "    # Filtrar la capa por ciudad\n",
    "    urban_layer.selectByExpression(f'\"NOM_MET\" = \\'{city}\\'')\n",
    "    city_layer = urban_layer.materialize(QgsFeatureRequest().setFilterFids(urban_layer.selectedFeatureIds()))\n",
    "\n",
    "    # Generar la cuadrícula hexagonal\n",
    "    grid_extent = city_layer.extent()\n",
    "    grid_params = {\n",
    "        'TYPE': 4,  # Hexágonos\n",
    "        'EXTENT': grid_extent,\n",
    "        'HSPACING': hex_size,\n",
    "        'VSPACING': hex_size,\n",
    "        'CRS': city_layer.crs().toWkt(),\n",
    "        'OUTPUT': 'memory:'\n",
    "    }\n",
    "    hex_grid = processing.run(\"qgis:creategrid\", grid_params, feedback=feedback)['OUTPUT']\n",
    "    \n",
    "    # Seleccionar hexágonos que intersectan con la mancha urbana\n",
    "    select_by_location_params = {\n",
    "        'INPUT': hex_grid,\n",
    "        'PREDICATE': [0],  # Intersects\n",
    "        'INTERSECT': city_layer,\n",
    "        'METHOD': 0  # Create new selection\n",
    "    }\n",
    "    processing.run(\"qgis:selectbylocation\", select_by_location_params, feedback=feedback)\n",
    "    \n",
    "    # Materializar la selección\n",
    "    intersecting_hexagons = hex_grid.materialize(QgsFeatureRequest().setFilterFids(hex_grid.selectedFeatureIds()))\n",
    "    \n",
    "    # Añadir atributo NOM_MET a los hexágonos\n",
    "    with edit(grid_layer):\n",
    "        for feature in intersecting_hexagons.getFeatures():\n",
    "            new_feature = QgsFeature(grid_layer.fields())\n",
    "            new_feature.setGeometry(feature.geometry())\n",
    "            new_feature['NOM_MET'] = city\n",
    "            grid_provider.addFeatures([new_feature])\n",
    "        \n",
    "# Guardar la capa combinada en un archivo\n",
    "output_path = \"C:/Users/ADMIN/Desktop/Ejercicio/Factores Exógenos/Cuadrícula Hexagonal1600.shp\"  # Cambia esto a la ruta de tu archivo de salida\n",
    "QgsVectorFileWriter.writeAsVectorFormat(grid_layer, output_path, \"UTF-8\", grid_layer.crs(), \"ESRI Shapefile\")\n",
    "\n",
    "# Añadir la capa combinada al proyecto\n",
    "QgsProject.instance().addMapLayer(grid_layer)\n",
    "\n",
    "print(\"Proceso completado.\")\n",
    "\n",
    "\n",
    "\n",
    "\n",
    "###### Proceso en Python\n",
    "\n",
    "# Cargar la capa de hexágonos\n",
    "hex_grid = gpd.read_file(r\"C:\\Users\\ADMIN\\Desktop\\Ejercicio\\Factores Exógenos\\Cuadrícula Hexagonal1600.shp\")"
   ]
  },
  {
   "cell_type": "code",
   "execution_count": null,
   "id": "4babe9fe-fd8d-47fd-93a9-418d5ae66c91",
   "metadata": {},
   "outputs": [],
   "source": [
    "# Cargar la capa de manzanas\n",
    "manzanas = gpd.read_file(r\"C:\\Users\\ADMIN\\OneDrive - Universidad de Guadalajara\\3. Voces\\2024\\Tipologías\\Nacional\\240527_Mapa_Subtipologías_PCU.gpkg\", layer=\"Mapa_SubTipologias_PCUS\")"
   ]
  },
  {
   "cell_type": "code",
   "execution_count": 8,
   "id": "61007f4b-4cf3-42ab-a9e4-34346e2777c9",
   "metadata": {},
   "outputs": [],
   "source": [
    "# Crear un campo ID único para cada hexágono\n",
    "hex_grid['hex_grid_id'] = range(1, len(hex_grid) + 1)\n",
    "\n",
    "# Asegurar que ambas capas tengan el mismo sistema de referencia espacial (CRS)\n",
    "if hex_grid.crs != manzanas.crs:\n",
    "    manzanas = manzanas.to_crs(hex_grid.crs)\n",
    "\n",
    "# Realizar la intersección espacial entre hexágonos y manzanas\n",
    "intersected = gpd.overlay(manzanas, hex_grid, how='intersection')\n",
    "\n",
    "# Agrupar por los identificadores de los hexágonos\n",
    "grouped = intersected.groupby('hex_grid_id')  # Cambia 'hex_grid_id' al nombre correcto del campo ID de los hexágonos"
   ]
  },
  {
   "cell_type": "code",
   "execution_count": 9,
   "id": "e9da06d7-5385-4894-90ab-e109bbddafd2",
   "metadata": {},
   "outputs": [],
   "source": [
    "# Crear las nuevas columnas para sumatorias en la capa de hexágonos\n",
    "sum_fields = [\n",
    "    'POPTOT2010', 'POPTOT2020', 'VIVTOT2010', 'VIVTOT2020',\n",
    "    'VIVPARDES2010', 'VIVPARDES2020', 'area_ha',\n",
    "    'CUARTOS2010', 'CUARTOS2020'\n",
    "]\n",
    "\n",
    "for field in sum_fields:\n",
    "    hex_grid[f'sum_{field}'] = 0\n",
    "\n",
    "# Crear una columna para la cantidad de manzanas que cruzan\n",
    "hex_grid['manzanas_count'] = 0\n",
    "\n",
    "# Calcular las sumatorias y la cantidad de manzanas\n",
    "for hex_id, group in grouped:\n",
    "    for field in sum_fields:\n",
    "        hex_grid.loc[hex_grid['hex_grid_id'] == hex_id, f'sum_{field}'] = group[field].sum()\n",
    "    \n",
    "    hex_grid.loc[hex_grid['hex_grid_id'] == hex_id, 'manzanas_count'] = len(group)"
   ]
  },
  {
   "cell_type": "code",
   "execution_count": 10,
   "id": "3a622be2-578f-46aa-8004-ec435e5bd667",
   "metadata": {},
   "outputs": [],
   "source": [
    "# Calcular las modas y porcentajes (8 para TIPOLOGIA y 4 para R_DESHAB)\n",
    "for i in range(1, 9):  # 8 categorías para TIPOLOGIA\n",
    "    hex_grid[f't_{i}'] = None\n",
    "    hex_grid[f't_{i}_p'] = 0.0\n",
    "\n",
    "for i in range(1, 5):  # 4 categorías para R_DESHAB\n",
    "    hex_grid[f'r_{i}'] = None\n",
    "    hex_grid[f'r_{i}_p'] = 0.0"
   ]
  },
  {
   "cell_type": "code",
   "execution_count": 11,
   "id": "94de3f60-2dea-43e6-ad32-c5c4fc5b5240",
   "metadata": {},
   "outputs": [],
   "source": [
    "# Calcular las modas y porcentajes\n",
    "for hex_id, group in grouped:\n",
    "    # Calcular para TIPOLOGIA\n",
    "    top8_tipologia = group['TIPOLOGIA'].value_counts().head(8)\n",
    "    total_count_tipologia = group['TIPOLOGIA'].count()\n",
    "\n",
    "    for i, (category, count) in enumerate(top8_tipologia.items(), start=1):\n",
    "        hex_grid.loc[hex_grid['hex_grid_id'] == hex_id, f't_{i}'] = category\n",
    "        hex_grid.loc[hex_grid['hex_grid_id'] == hex_id, f't_{i}_p'] = (count / total_count_tipologia) * 100\n",
    "\n",
    "    # Calcular para R_DESHAB\n",
    "    top4_r_deshab = group['R_DESHAB'].value_counts().head(4)\n",
    "    total_count_r_deshab = group['R_DESHAB'].count()\n",
    "\n",
    "    for i, (category, count) in enumerate(top4_r_deshab.items(), start=1):\n",
    "        hex_grid.loc[hex_grid['hex_grid_id'] == hex_id, f'r_{i}'] = category\n",
    "        hex_grid.loc[hex_grid['hex_grid_id'] == hex_id, f'r_{i}_p'] = (count / total_count_r_deshab) * 100"
   ]
  },
  {
   "cell_type": "code",
   "execution_count": 13,
   "id": "22efbe62-2e0d-4443-b56b-6fd002b5caeb",
   "metadata": {},
   "outputs": [],
   "source": [
    "# Guardar el resultado en un archivo GPKG\n",
    "hex_grid.to_file(r\"C:\\Users\\ADMIN\\Desktop\\Ejercicio\\Factores Exógenos\\Cuadrícula_Hexagonal_Actualizada.gpkg\", driver=\"GPKG\")"
   ]
  },
  {
   "cell_type": "markdown",
   "id": "a3dcc6e1-417d-420e-856c-2e2784333d20",
   "metadata": {},
   "source": [
    "Indicadores"
   ]
  },
  {
   "cell_type": "code",
   "execution_count": 10,
   "id": "84dcf743-ea3d-4c97-8863-6d71d9099b2c",
   "metadata": {},
   "outputs": [],
   "source": [
    "# Cargar la capa de hexágonos\n",
    "hex_grid = gpd.read_file(r\"C:\\Users\\ADMIN\\Desktop\\Ejercicio\\Factores Exógenos\\Cuadrícula_Hexagonal_Actualizada.gpkg\")"
   ]
  },
  {
   "cell_type": "code",
   "execution_count": 11,
   "id": "f21f0489-4119-4a57-b2a8-378a5b1b6ef1",
   "metadata": {},
   "outputs": [],
   "source": [
    "# Eliminar el prefijo 'sum_' de los nombres de las columnas\n",
    "hex_grid.columns = hex_grid.columns.str.replace('^sum_', '', regex=True)"
   ]
  },
  {
   "cell_type": "code",
   "execution_count": 12,
   "id": "cacfede8-784a-40a0-9792-09e0de7c4e6b",
   "metadata": {},
   "outputs": [],
   "source": [
    "# Reemplazar valores NaN por 0\n",
    "hex_grid = hex_grid.fillna(0)\n",
    "\n",
    "# Calcular los nuevos campos\n",
    "hex_grid['difpob'] = hex_grid['POPTOT2020'] - hex_grid['POPTOT2010']\n",
    "hex_grid['relpob'] = hex_grid['difpob'] / hex_grid['POPTOT2010']\n",
    "hex_grid['tasapob'] = (hex_grid['POPTOT2020'] / hex_grid['POPTOT2010'])**(1/10) - 1\n",
    "\n",
    "hex_grid['denspop10'] = hex_grid['POPTOT2010'] / hex_grid['area_ha']\n",
    "hex_grid['denspop20'] = hex_grid['POPTOT2020'] / hex_grid['area_ha']\n",
    "\n",
    "hex_grid['difviv'] = hex_grid['VIVTOT2020'] - hex_grid['VIVTOT2010']\n",
    "hex_grid['relviv'] = hex_grid['difviv'] / hex_grid['VIVTOT2010']\n",
    "hex_grid['tasaviv'] = (hex_grid['VIVTOT2020'] / hex_grid['VIVTOT2010'])**(1/10) - 1\n",
    "\n",
    "hex_grid['densviv10'] = hex_grid['VIVTOT2010'] / hex_grid['area_ha']\n",
    "hex_grid['densviv20'] = hex_grid['VIVTOT2020'] / hex_grid['area_ha']\n",
    "\n",
    "hex_grid['habxviv10'] = hex_grid['POPTOT2010'] / hex_grid['VIVTOT2010']\n",
    "hex_grid['habxviv20'] = hex_grid['POPTOT2020'] / hex_grid['VIVTOT2020']\n",
    "\n",
    "hex_grid['difcuartos'] = hex_grid['CUARTOS2020'] - hex_grid['CUARTOS2010']\n",
    "hex_grid['relcuartos'] = hex_grid['difcuartos'] / hex_grid['CUARTOS2010']\n",
    "\n",
    "hex_grid['cperc10'] = hex_grid['CUARTOS2010'] / hex_grid['POPTOT2010']\n",
    "hex_grid['cperc20'] = hex_grid['CUARTOS2020'] / hex_grid['POPTOT2020']\n",
    "\n",
    "hex_grid['cperviv10'] = hex_grid['CUARTOS2010'] / hex_grid['VIVTOT2010']\n",
    "hex_grid['cperviv20'] = hex_grid['CUARTOS2020'] / hex_grid['VIVTOT2020']\n",
    "\n",
    "hex_grid['deshabitacion'] = hex_grid['VIVPARDES2020'] / hex_grid['VIVTOT2020']\n",
    "\n",
    "# Guardar el resultado en un nuevo archivo GPKG\n",
    "hex_grid.to_file(r\"C:\\Users\\ADMIN\\Desktop\\Ejercicio\\Factores Exógenos\\240929_factores_exógenos_deshabitación.gpkg\", driver=\"GPKG\")"
   ]
  },
  {
   "cell_type": "markdown",
   "id": "edf2c1bc-c259-4ba7-a66d-d4d9901fba82",
   "metadata": {},
   "source": [
    "Preparar Censo"
   ]
  },
  {
   "cell_type": "code",
   "execution_count": 16,
   "id": "40862b31-a5a0-4f66-aa32-235565877925",
   "metadata": {},
   "outputs": [
    {
     "name": "stderr",
     "output_type": "stream",
     "text": [
      "C:\\Users\\ADMIN\\AppData\\Local\\Temp\\ipykernel_19044\\4156862868.py:5: DtypeWarning: Columns (132) have mixed types. Specify dtype option on import or set low_memory=False.\n",
      "  censo_2010 = pd.read_csv(r\"C:\\Users\\ADMIN\\Desktop\\Ejercicio\\Base de Datos Censal\\MZNA_2010_NAC.csv\", usecols=['CVEGEO', 'PEA'])\n",
      "C:\\Users\\ADMIN\\AppData\\Local\\Temp\\ipykernel_19044\\4156862868.py:6: DtypeWarning: Columns (142) have mixed types. Specify dtype option on import or set low_memory=False.\n",
      "  censo_2020 = pd.read_csv(r\"C:\\Users\\ADMIN\\Desktop\\Ejercicio\\Base de Datos Censal\\MZNA_2020_NAC.csv\", usecols=['CVEGEO', 'PEA'])\n"
     ]
    }
   ],
   "source": [
    "# Cargar la capa de manzanas\n",
    "manzanas = gpd.read_file(r\"C:\\Users\\ADMIN\\Desktop\\Ejercicio\\MZN_NAC\")\n",
    "\n",
    "# Cargar los datos censales para 2010 y 2020\n",
    "censo_2010 = pd.read_csv(r\"C:\\Users\\ADMIN\\Desktop\\Ejercicio\\Base de Datos Censal\\MZNA_2010_NAC.csv\", usecols=['CVEGEO', 'PEA'])\n",
    "censo_2020 = pd.read_csv(r\"C:\\Users\\ADMIN\\Desktop\\Ejercicio\\Base de Datos Censal\\MZNA_2020_NAC.csv\", usecols=['CVEGEO', 'PEA'])"
   ]
  },
  {
   "cell_type": "code",
   "execution_count": 18,
   "id": "0af98f2b-41e8-47a9-a5bc-eb62c1fc8b21",
   "metadata": {},
   "outputs": [],
   "source": [
    "# Función para reemplazar '*' con '1' en el DataFrame\n",
    "def replace(dataframe):\n",
    "    return dataframe.replace('*', '1')\n",
    "\n",
    "# Aplicar la función replace para reemplazar '*' con '1'\n",
    "censo_2010 = replace(censo_2010)\n",
    "censo_2020 = replace(censo_2020)\n",
    "\n",
    "# Convertir las columnas PEA a numérico (por si hay valores no numéricos después de la sustitución)\n",
    "censo_2010['PEA'] = pd.to_numeric(censo_2010['PEA'], errors='coerce')\n",
    "censo_2020['PEA'] = pd.to_numeric(censo_2020['PEA'], errors='coerce')\n",
    "\n",
    "# Renombrar las columnas PEA para distinguir los años\n",
    "censo_2010.rename(columns={'PEA': 'PEA2010'}, inplace=True)\n",
    "censo_2020.rename(columns={'PEA': 'PEA2020'}, inplace=True)\n",
    "\n",
    "# Realizar la unión por el campo CVEGEO\n",
    "manzanas = manzanas.merge(censo_2010, on='CVEGEO', how='left')\n",
    "manzanas = manzanas.merge(censo_2020, on='CVEGEO', how='left')\n",
    "\n",
    "# Reemplazar valores NaN en los campos PEA2010 y PEA2020 con 0\n",
    "manzanas[['PEA2010', 'PEA2020']] = manzanas[['PEA2010', 'PEA2020']].fillna(0)\n",
    "\n",
    "# Cargar la capa de hexágonos\n",
    "hex_grid = gpd.read_file(r\"C:\\Users\\ADMIN\\Desktop\\Ejercicio\\Factores Exógenos\\240929_factores_exógenos_deshabitación.gpkg\")\n",
    "\n",
    "# Asegurar que ambas capas tengan el mismo sistema de referencia espacial (CRS)\n",
    "if hex_grid.crs != manzanas.crs:\n",
    "    manzanas = manzanas.to_crs(hex_grid.crs)\n",
    "\n",
    "# Realizar la intersección espacial entre hexágonos y manzanas\n",
    "intersected = gpd.overlay(manzanas, hex_grid, how='intersection')\n",
    "\n",
    "# Agrupar por los identificadores de los hexágonos\n",
    "grouped = intersected.groupby('hex_grid_id')\n",
    "\n",
    "# Crear las nuevas columnas para sumatorias de PEA en la capa de hexágonos\n",
    "hex_grid['PEA2010'] = 0\n",
    "hex_grid['PEA2020'] = 0\n",
    "\n",
    "# Calcular las sumatorias y la cantidad de manzanas\n",
    "for hex_id, group in grouped:\n",
    "    hex_grid.loc[hex_grid['hex_grid_id'] == hex_id, 'PEA2010'] = group['PEA2010'].sum()\n",
    "    hex_grid.loc[hex_grid['hex_grid_id'] == hex_id, 'PEA2020'] = group['PEA2020'].sum()\n",
    "    "
   ]
  },
  {
   "cell_type": "code",
   "execution_count": 19,
   "id": "0febfb62-c1ed-4834-9e95-16134d0943d6",
   "metadata": {},
   "outputs": [],
   "source": [
    "hex_grid['depeco10'] = 1-(hex_grid['PEA2010'] / hex_grid['POPTOT2010'])\n",
    "hex_grid['depeco20'] = 1-(hex_grid['PEA2020'] / hex_grid['POPTOT2020'])"
   ]
  },
  {
   "cell_type": "code",
   "execution_count": 21,
   "id": "14fcf30c-4ace-4f19-bd15-158b0209c9f2",
   "metadata": {},
   "outputs": [],
   "source": [
    "# Guardar el resultado en un nuevo archivo GPKG\n",
    "hex_grid.to_file(r\"C:\\Users\\ADMIN\\Desktop\\Ejercicio\\Factores Exógenos\\240929_factores_exógenos_deshabitación_v1_PEA.gpkg\", driver=\"GPKG\")"
   ]
  },
  {
   "cell_type": "markdown",
   "id": "04e77062-a37c-4f4f-a1f4-5853a4d2c32d",
   "metadata": {},
   "source": [
    "NSE"
   ]
  },
  {
   "cell_type": "code",
   "execution_count": 22,
   "id": "25929bdf-a0c7-4e28-b22b-6c9b5a3902d2",
   "metadata": {},
   "outputs": [],
   "source": [
    "# Cargar la capa de AGEB y el archivo de NSE\n",
    "ageb_layer = gpd.read_file(r\"C:\\Users\\ADMIN\\Desktop\\Censos\\shp\\MG_2020_Integrado\\conjunto_de_datos\\00a.shp\")\n",
    "nse_data = pd.read_excel(r\"C:\\Users\\ADMIN\\Desktop\\Ejercicio\\NSE\\nse_ageb_amai.xlsx\", usecols=['CVEAGEB', 'PONDERADO', 'PREDOMINANTE'])"
   ]
  },
  {
   "cell_type": "code",
   "execution_count": null,
   "id": "6c7dbb1b-94e9-4bbd-af37-78d3cefa8944",
   "metadata": {},
   "outputs": [],
   "source": [
    "# Hacer join entre nse_data y la capa AGEB por los campos CVEAGEB y CVEGEO\n",
    "ageb_layer = ageb_layer.merge(nse_data, left_on='CVEGEO', right_on='CVEAGEB', how='left')\n",
    "\n",
    "# Asegurar que ambas capas tengan el mismo sistema de referencia espacial (CRS)\n",
    "if hex_grid.crs != ageb_layer.crs:\n",
    "    ageb_layer = ageb_layer.to_crs(hex_grid.crs)\n",
    "\n",
    "# Realizar la intersección espacial entre hexágonos y AGEB\n",
    "intersected = gpd.overlay(ageb_layer, hex_grid, how='intersection')\n",
    "\n",
    "# Calcular el área de la intersección para usarla como ponderador\n",
    "intersected['intersect_area'] = intersected.area\n",
    "\n",
    "# Agrupar por los identificadores de los hexágonos\n",
    "grouped = intersected.groupby('hex_grid_id')\n",
    "\n",
    "# Crear nuevas columnas en hex_grid para el promedio ponderado de PONDERADO y la moda de PREDOMINANTE\n",
    "hex_grid['ponderado_media'] = np.nan\n",
    "hex_grid['predominante_moda'] = np.nan"
   ]
  },
  {
   "cell_type": "code",
   "execution_count": 25,
   "id": "b9615931-5caa-413e-9d7c-88a2f07b5a8d",
   "metadata": {},
   "outputs": [
    {
     "name": "stderr",
     "output_type": "stream",
     "text": [
      "C:\\Users\\ADMIN\\AppData\\Local\\Temp\\ipykernel_19044\\3076498455.py:11: FutureWarning: Unlike other reduction functions (e.g. `skew`, `kurtosis`), the default behavior of `mode` typically preserves the axis it acts along. In SciPy 1.11.0, this behavior will change: the default value of `keepdims` will become False, the `axis` over which the statistic is taken will be eliminated, and the value None will no longer be accepted. Set `keepdims` to True or False to avoid this warning.\n",
      "  hex_grid.loc[hex_grid['hex_grid_id'] == hex_id, 'predominante_moda'] = stats.mode(group['PREDOMINANTE'])[0][0]\n",
      "C:\\Users\\ADMIN\\AppData\\Local\\Temp\\ipykernel_19044\\3076498455.py:11: DeprecationWarning: Support for non-numeric arrays has been deprecated as of SciPy 1.9.0 and will be removed in 1.11.0. `pandas.DataFrame.mode` can be used instead, see https://pandas.pydata.org/docs/reference/api/pandas.DataFrame.mode.html.\n",
      "  hex_grid.loc[hex_grid['hex_grid_id'] == hex_id, 'predominante_moda'] = stats.mode(group['PREDOMINANTE'])[0][0]\n"
     ]
    }
   ],
   "source": [
    "# Función para calcular promedio ponderado\n",
    "def weighted_average(data, values, weights):\n",
    "    return np.average(data[values], weights=data[weights])\n",
    "\n",
    "# Iterar por los grupos y calcular el promedio ponderado y la moda\n",
    "for hex_id, group in grouped:\n",
    "    # Promedio ponderado de PONDERADO\n",
    "    hex_grid.loc[hex_grid['hex_grid_id'] == hex_id, 'ponderado_media'] = weighted_average(group, 'PONDERADO', 'intersect_area')\n",
    "    \n",
    "    # Moda de PREDOMINANTE\n",
    "    hex_grid.loc[hex_grid['hex_grid_id'] == hex_id, 'predominante_moda'] = stats.mode(group['PREDOMINANTE'])[0][0]\n",
    "\n",
    "# Guardar el resultado en un nuevo archivo GPKG\n",
    "hex_grid.to_file(r\"C:\\Users\\ADMIN\\Desktop\\Ejercicio\\Factores Exógenos\\Hexagonos_NSE.gpkg\", driver=\"GPKG\")"
   ]
  },
  {
   "cell_type": "code",
   "execution_count": null,
   "id": "ca2e30b2-5ec8-44f1-a74c-6ff846834866",
   "metadata": {},
   "outputs": [],
   "source": []
  }
 ],
 "metadata": {
  "kernelspec": {
   "display_name": "Python 3 (ipykernel)",
   "language": "python",
   "name": "python3"
  },
  "language_info": {
   "codemirror_mode": {
    "name": "ipython",
    "version": 3
   },
   "file_extension": ".py",
   "mimetype": "text/x-python",
   "name": "python",
   "nbconvert_exporter": "python",
   "pygments_lexer": "ipython3",
   "version": "3.11.3"
  }
 },
 "nbformat": 4,
 "nbformat_minor": 5
}
