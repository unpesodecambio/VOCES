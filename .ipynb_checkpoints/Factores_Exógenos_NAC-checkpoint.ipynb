{
 "cells": [
  {
   "cell_type": "code",
   "execution_count": 17,
   "id": "c775afed-046c-4099-b3b7-bad2e7b71874",
   "metadata": {},
   "outputs": [],
   "source": [
    "import geopandas as gpd\n",
    "import pandas as pd\n",
    "from shapely.geometry import Polygon\n",
    "import matplotlib.pyplot as plt\n",
    "import numpy as np\n",
    "import h3"
   ]
  },
  {
   "cell_type": "code",
   "execution_count": 4,
   "id": "688d0f7b-feee-4c64-b317-37ee9ad85cab",
   "metadata": {},
   "outputs": [],
   "source": [
    "# Cargar la capa de manzanas de las ciudades desde el GPKG\n",
    "path_to_gpkg = r\"C:\\Users\\ADMIN\\Desktop\\Ejercicio\\Mapa_Tipologías_NAC\"\n",
    "manzanas = gpd.read_file(path_to_gpkg, layer='Mapa_SubTipologias')"
   ]
  },
  {
   "cell_type": "code",
   "execution_count": 18,
   "id": "cb7becd8-ff1c-4cf1-b519-f333eff4ffeb",
   "metadata": {},
   "outputs": [],
   "source": [
    "def create_hex_grid(bounds, hex_radius):\n",
    "    hex_grid = []\n",
    "    minx, miny, maxx, maxy = bounds\n",
    "    x_range = np.arange(minx, maxx, hex_radius * 3/2)\n",
    "    y_range = np.arange(miny, maxy, hex_radius * np.sqrt(3))\n",
    "    for x in x_range:\n",
    "        for y in y_range:\n",
    "            hexagon = Polygon([\n",
    "                (x + hex_radius * np.cos(angle), y + hex_radius * np.sin(angle))\n",
    "                for angle in np.linspace(0, 2 * np.pi, 6, endpoint=False)\n",
    "            ])\n",
    "            hex_grid.append(hexagon)\n",
    "    return hex_grid\n",
    "\n",
    "\n",
    "hex_radius = 500  # Radio del hexágono en metros\n",
    "\n",
    "# Ajustar CRS de las manzanas para que las distancias estén en metros\n",
    "manzanas = manzanas.to_crs(epsg=3395)\n",
    "\n",
    "# Generar la cuadrícula de hexágonos para cada metrópoli\n",
    "hex_grid_gdfs = []\n",
    "for metropoli in manzanas['NOM_MET'].unique():\n",
    "    # Obtener los límites de la metrópoli\n",
    "    metropoli_manzanas = manzanas[manzanas['NOM_MET'] == metropoli]\n",
    "    bounds = metropoli_manzanas.total_bounds\n",
    "    \n",
    "    # Generar la cuadrícula de hexágonos\n",
    "    hex_grid = create_hex_grid(bounds, hex_radius)\n",
    "    \n",
    "    # Crear un GeoDataFrame con la cuadrícula de hexágonos\n",
    "    hex_grid_gdf = gpd.GeoDataFrame({'geometry': hex_grid}, crs=manzanas.crs)\n",
    "    \n",
    "    # Intersectar los hexágonos con las manzanas de la metrópoli\n",
    "    hex_intersect = gpd.overlay(hex_grid_gdf, metropoli_manzanas, how='intersection')\n",
    "    \n",
    "    # Agregar el campo NOM_MET\n",
    "    hex_intersect['NOM_MET'] = metropoli\n",
    "    \n",
    "    # Guardar el resultado\n",
    "    hex_grid_gdfs.append(hex_intersect)\n",
    "\n",
    "# Combinar los GeoDataFrames de todas las metrópolis\n",
    "hex_grid_final = gpd.GeoDataFrame(pd.concat(hex_grid_gdfs, ignore_index=True), crs=manzanas.crs)"
   ]
  },
  {
   "cell_type": "code",
   "execution_count": 12,
   "id": "5038e1dd-3fc6-417e-81fd-0dd20fae13fe",
   "metadata": {},
   "outputs": [
    {
     "name": "stdout",
     "output_type": "stream",
     "text": [
      "Cuadrícula hexagonal generada y guardada en: C:\\Users\\ADMIN\\Desktop\\Ejercicio\\Cuadrícula_Hexagonal.gpkg\n"
     ]
    }
   ],
   "source": [
    "hex_grid_final.plot(column='NOM_MET', legend=True)\n",
    "plt.show()"
   ]
  },
  {
   "cell_type": "code",
   "execution_count": null,
   "id": "b89ad36c-31b9-486b-8557-b4fa86c0d50a",
   "metadata": {},
   "outputs": [],
   "source": []
  }
 ],
 "metadata": {
  "kernelspec": {
   "display_name": "Python 3 (ipykernel)",
   "language": "python",
   "name": "python3"
  },
  "language_info": {
   "codemirror_mode": {
    "name": "ipython",
    "version": 3
   },
   "file_extension": ".py",
   "mimetype": "text/x-python",
   "name": "python",
   "nbconvert_exporter": "python",
   "pygments_lexer": "ipython3",
   "version": "3.11.3"
  }
 },
 "nbformat": 4,
 "nbformat_minor": 5
}
