{
 "cells": [
  {
   "cell_type": "markdown",
   "id": "BUU5uLHGKlNV",
   "metadata": {
    "id": "BUU5uLHGKlNV"
   },
   "source": [
    "# **Código nacional**\n",
    "Esto es una prueba. Esto será el código para tratar todo nacional."
   ]
  },
  {
   "cell_type": "markdown",
   "id": "FgKBrSamK1bd",
   "metadata": {
    "id": "FgKBrSamK1bd"
   },
   "source": [
    "Paquetes necesarios"
   ]
  },
  {
   "cell_type": "code",
   "execution_count": null,
   "id": "9e6123ca",
   "metadata": {
    "id": "9e6123ca"
   },
   "outputs": [],
   "source": [
    "#INSTALACIÓN DE PAQUETES NECESARIOS"
   ]
  },
  {
   "cell_type": "code",
   "execution_count": null,
   "id": "f7d937e1",
   "metadata": {
    "colab": {
     "base_uri": "https://localhost:8080/"
    },
    "id": "f7d937e1",
    "outputId": "f99549f1-34a7-4822-be66-6405112c132c",
    "scrolled": true
   },
   "outputs": [],
   "source": [
    "!pip install geopandas\n",
    "!pip install dbfread"
   ]
  },
  {
   "cell_type": "code",
   "execution_count": null,
   "id": "491487a6",
   "metadata": {
    "id": "491487a6",
    "scrolled": true
   },
   "outputs": [],
   "source": [
    "import pandas as pd\n",
    "import geopandas as gpd\n",
    "import numpy as np\n",
    "from shapely.geometry import Polygon\n",
    "from dbfread import DBF"
   ]
  },
  {
   "cell_type": "markdown",
   "id": "FQgU503EK5Mb",
   "metadata": {
    "id": "FQgU503EK5Mb"
   },
   "source": [
    "##Paso dos - Información censal"
   ]
  },
  {
   "cell_type": "code",
   "execution_count": null,
   "id": "4a9c6c55",
   "metadata": {
    "id": "4a9c6c55"
   },
   "outputs": [],
   "source": [
    "#DATOS PARA PASO DOS\n",
    "\n",
    "#INSERTAR MUN NECESARIOS\n",
    "entidad = ['11']\n",
    "municipios = ['007', '011', '044']\n",
    "\n",
    "#RUTAS ENTRADA\n",
    "MZNA_2020_ruta = r\"C:\\Users\\Alejandro\\Downloads\\DATA\\2020\\MZNA\\RESAGEBURB_11CSV20.csv\"\n",
    "ITER_2020_ruta = r\"C:\\Users\\Alejandro\\Downloads\\DATA\\2020\\ITER\\ITER_NALCSV20.csv\"\n",
    "MZNA_2010_ruta = r\"C:\\Users\\Alejandro\\Downloads\\DATA\\2010\\MZNA\\RESAGEBURB_11DBF10.dbf\"\n",
    "ITER_2010_ruta = r\"C:\\Users\\Alejandro\\Downloads\\DATA\\2010\\ITER\\ITER_NALDBF10.dbf\"\n",
    "\n",
    "#RUTAS SALIDA\n",
    "MZNA_2020_salida = r\"C:\\Users\\Alejandro\\Downloads\\DATA\\Tratados\\CELAYA\\MZNA_2020_CYA.csv\"\n",
    "ITER_2020_salida = r\"C:\\Users\\Alejandro\\Downloads\\DATA\\Tratados\\CELAYA\\MZNA_2010_CYA.csv\"\n",
    "MZNA_2010_salida = r\"C:\\Users\\Alejandro\\Downloads\\DATA\\Tratados\\CELAYA\\ITER_2020_CYA.csv\"\n",
    "ITER_2010_salida = r\"C:\\Users\\Alejandro\\Downloads\\DATA\\Tratados\\CELAYA\\ITER_2010_CYA.csv\"\n"
   ]
  },
  {
   "cell_type": "code",
   "execution_count": null,
   "id": "0d3b51cf",
   "metadata": {
    "colab": {
     "base_uri": "https://localhost:8080/",
     "height": 356
    },
    "id": "0d3b51cf",
    "outputId": "78256190-3463-408c-ae84-9e1a905ae5b3",
    "scrolled": true
   },
   "outputs": [],
   "source": [
    "#PASO DOS - Preparación de información censal\n",
    "\n",
    "# Función para cargar datos de archivo DBF y convertirlos a DataFrame\n",
    "def load_dbf_to_dataframe(file_path):\n",
    "    table = DBF(file_path)\n",
    "    return pd.DataFrame(iter(table))\n",
    "\n",
    "# Cargar archivos en un DataFrame\n",
    "MZNA_2020_df = pd.read_csv(MZNA_2020_ruta, dtype={'ENTIDAD': str, 'MUN': str, 'LOC': str, 'AGEB': str, 'MZA': str})\n",
    "ITER_2020_df = pd.read_csv(ITER_2020_ruta, dtype={'ENTIDAD': str, 'MUN': str, 'LOC': str, 'LATITUD': str})\n",
    "\n",
    "MZNA_2010_df = load_dbf_to_dataframe(MZNA_2010_ruta)\n",
    "ITER_2010_df = load_dbf_to_dataframe(ITER_2010_ruta)\n",
    "\n",
    "# 2.2 Homologación de ID urbana - CVEGEO\n",
    "def homologate_urban_id(row):\n",
    "    return f\"{row['ENTIDAD']}{row['MUN']}{row['LOC']}{row['AGEB']}{row['MZA']}\"\n",
    "\n",
    "# 3.2 Homologación de ID rural - CVEGEO\n",
    "def homologate_rural_id(row):\n",
    "    return f\"{row['ENTIDAD']}{row['MUN']}{row['LOC']}\"\n",
    "\n",
    "MZNA_2020_df['CVEGEO'] = MZNA_2020_df.apply(homologate_urban_id, axis=1)\n",
    "MZNA_2010_df['CVEGEO'] = MZNA_2010_df.apply(homologate_urban_id, axis=1)\n",
    "\n",
    "ITER_2020_df['CVEGEO'] = ITER_2020_df.apply(homologate_rural_id, axis=1)\n",
    "ITER_2010_df['CVEGEO'] = ITER_2010_df.apply(homologate_rural_id, axis=1)\n",
    "\n",
    "#reemplazar * con 0\n",
    "def replace(dataframe):\n",
    "    return dataframe.replace('*', '0')\n",
    "\n",
    "MZNA_2020_df_rep = replace(MZNA_2020_df)\n",
    "MZNA_2010_df_rep = replace(MZNA_2010_df)\n",
    "ITER_2020_df_rep = replace(ITER_2020_df)\n",
    "ITER_2010_df_rep = replace(ITER_2010_df)\n",
    "\n",
    "# Función para filtrar información por municipios correspondientes\n",
    "def filtrar_municipios(dataframe, municipios):\n",
    "    return dataframe[dataframe['MUN'].isin(municipios)]\n",
    "\n",
    "# aplicar filtrado por municipios\n",
    "MZNA_2020_df_filter = filtrar_municipios(MZNA_2020_df_rep, municipios)\n",
    "MZNA_2010_df_filter = filtrar_municipios(MZNA_2010_df_rep, municipios)\n",
    "\n",
    "#Filtrar ITER\n",
    "def filtrar_municipios_iter(dataframe, municipios, entidad):\n",
    "    return dataframe[(dataframe['MUN'].isin(municipios)) & (dataframe['ENTIDAD'].isin(entidad))]\n",
    "\n",
    "ITER_2020_df_filter = filtrar_municipios_iter(ITER_2020_df_rep, municipios, entidad)\n",
    "ITER_2010_df_filter = filtrar_municipios_iter(ITER_2010_df_rep, municipios, entidad)\n",
    "\n",
    "# 2.3 Guardado de información en CSV\n",
    "def save_to_csv(dataframe, filename):\n",
    "    dataframe.to_csv(filename, index=False)\n",
    "\n",
    "save_to_csv(MZNA_2020_df_filter, MZNA_2020_salida)\n",
    "save_to_csv(MZNA_2010_df_filter, ITER_2020_salida)\n",
    "save_to_csv(ITER_2020_df_filter, MZNA_2010_salida)\n",
    "save_to_csv(ITER_2010_df_filter, ITER_2010_salida)"
   ]
  },
  {
   "cell_type": "markdown",
   "id": "VkUwyJr7K9m0",
   "metadata": {
    "id": "VkUwyJr7K9m0"
   },
   "source": [
    "## Pasos tres a seis: Información geo-estadística"
   ]
  },
  {
   "cell_type": "code",
   "execution_count": null,
   "id": "12e5f9ee",
   "metadata": {
    "id": "12e5f9ee"
   },
   "outputs": [],
   "source": [
    "#DATOS PARA PASO TRES A SEIS\n",
    "\n",
    "#rutas shp base\n",
    "SHP_MZN_ruta = r\"C:\\Users\\Alejandro\\Downloads\\DATA\\SHP\\11m.shp\"\n",
    "SHP_LOC_ruta = r\"C:\\Users\\Alejandro\\Downloads\\DATA\\SHP\\11l.shp\"\n",
    "\n",
    "#ruta gpkg fin\n",
    "MAPA_TIPO_ruta = r\"C:\\Users\\Alejandro\\Downloads\\DATA\\Tratados\\CELAYA\\Mapa_Tipologías_CYA\"\n",
    "\n",
    "# Definir área de estudio\n",
    "entidad = ['11']\n",
    "municipios = ['007', '011', '044']\n",
    "\n",
    "#Valor del filtro\n",
    "filtro = 0.125"
   ]
  },
  {
   "cell_type": "code",
   "execution_count": null,
   "id": "bff30d3e",
   "metadata": {
    "id": "bff30d3e",
    "scrolled": true
   },
   "outputs": [],
   "source": [
    "#PASO TRES - Unión de información estadística y cartografía\n",
    "\n",
    "#Carga de capas de manzanas y localidades a gdf\n",
    "SHP_MZN_gdf = gpd.read_file(SHP_MZN_ruta)\n",
    "SHP_LOC_gdf = gpd.read_file(SHP_LOC_ruta)\n",
    "\n",
    "#Filtrar ITER\n",
    "def filtrar_municipios_gpkg(dataframe, municipios, entidad):\n",
    "    return dataframe[(dataframe['CVE_MUN'].isin(municipios)) & (dataframe['CVE_ENT'].isin(entidad))]\n",
    "\n",
    "SHP_MZN_gdf_filter = filtrar_municipios_gpkg(SHP_MZN_gdf, municipios, entidad)\n",
    "SHP_LOC_gdf_filter = filtrar_municipios_gpkg(SHP_LOC_gdf, municipios, entidad)\n",
    "\n",
    "# CREAR GPKG BASE DESDE gdf DE MANZANAS\n",
    "SHP_MZN_gdf_filter.to_file(MAPA_TIPO_ruta, layer='Mapa_Tipologias', driver='GPKG')\n",
    "\n",
    "# Leer gpkg base\n",
    "MAPA_TIPO_gdf = gpd.read_file(MAPA_TIPO_gpkg, layer='Mapa_Tipologias')\n",
    "\n",
    "# Selección de ITER rural\n",
    "SHP_LOC_gdf_filter_RURAL = SHP_LOC_gdf_filter[SHP_LOC_gdf_filter['AMBITO'] == 'Rural']\n",
    "\n",
    "# Concatenar ITER rural a la capa existente\n",
    "gdf_concatenated = gpd.GeoDataFrame(pd.concat([MAPA_TIPO_gpkg_gdf, SHP_LOC_gdf_filter_RURAL], ignore_index=True))\n",
    "\n",
    "# Guardar la capa concatenada en el GeoPackage base\n",
    "gdf_concatenated.to_file(MAPA_TIPO_ruta, layer='Mapa_Tipologias', driver='GPKG', overwrite=True)\n",
    "\n",
    "# Re-leer la capa del GeoPackage base\n",
    "MAPA_TIPO_gdf = gpd.read_file(MAPA_TIPO_ruta, layer='Mapa_Tipologias')\n",
    "\n",
    "# Unir campos de los DataFrames al GeoPackage base por CVEGEO\n",
    "MAPA_TIPO_gdf1 = MAPA_TIPO_gdf.merge(MZNA_2020_df[['CVEGEO', 'POBTOT', 'TVIVPAR', 'VIVPAR_DES']], on='CVEGEO', how='left', suffixes=('_2020', '_2020_MZNA'))\n",
    "MAPA_TIPO_gdf2 = MAPA_TIPO_gdf1.merge(ITER_2020_df[['CVEGEO', 'POBTOT', 'TVIVPAR', 'VIVPAR_DES']], on='CVEGEO', how='left', suffixes=('_2020', '_2020_ITER'))\n",
    "MAPA_TIPO_gdf3 = MAPA_TIPO_gdf2.merge(MZNA_2010_df[['CVEGEO', 'POBTOT', 'TVIVPAR', 'VIVPAR_DES']], on='CVEGEO', how='left', suffixes=('_2010', '_2010_MZNA'))\n",
    "MAPA_TIPO_gdf4 = MAPA_TIPO_gdf3.merge(ITER_2010_df[['CVEGEO', 'POBTOT', 'TVIVPAR', 'VIVPAR_DES']], on='CVEGEO', how='left', suffixes=('_2010', '_2010_ITER'))\n",
    "\n",
    "#limpiar  *\n",
    "MAPA_TIPO_gdf4_A = replace(MAPA_TIPO_gdf4)\n",
    "\n",
    "#reemplazar N/D\n",
    "MAPA_TIPO_gdf4_B = MAPA_TIPO_gdf4_A.replace('N/D', np.nan)\n",
    "\n",
    "# Actualizar valores sin información de \"null\" a 0\n",
    "MAPA_TIPO_gdf4_C = MAPA_TIPO_gdf4_B.fillna(0)\n",
    "\n",
    "# Crear campos POPTOT2010, POPTOT2020, VIVPAR2010 y VIVPAR2020 y llenado respectivamente\n",
    "MAPA_TIPO_gdf4_C['POPTOT2010'] = MAPA_TIPO_gdf4_B['POBTOT_2010'].astype(int) + MAPA_TIPO_gdf4_B['POBTOT_2010_ITER'].astype(int)\n",
    "MAPA_TIPO_gdf4_C['POPTOT2020'] = MAPA_TIPO_gdf4_B['POBTOT_2020'].astype(int) + MAPA_TIPO_gdf4_B['POBTOT_2020_ITER'].astype(int)\n",
    "MAPA_TIPO_gdf4_C['VIVPAR2010'] = MAPA_TIPO_gdf4_B['TVIVPAR_2010'].astype(int) + MAPA_TIPO_gdf4_B['TVIVPAR_2010_ITER'].astype(int)\n",
    "MAPA_TIPO_gdf4_C['VIVPAR2020'] = MAPA_TIPO_gdf4_B['TVIVPAR_2020'].astype(int) +  MAPA_TIPO_gdf4_B['TVIVPAR_2020_ITER'].astype(int)\n",
    "MAPA_TIPO_gdf4_C['VIVPARDES2020'] = MAPA_TIPO_gdf4_B['VIVPAR_DES_2020'].astype(int) + MAPA_TIPO_gdf4_B['VIVPAR_DES_2020_ITER'].astype(int)\n",
    "\n",
    "# Guardar el GeoPackage base actualizado\n",
    "MAPA_TIPO_gdf4_C.to_file(MAPA_TIPO_ruta, layer='Mapa_Tipologias', driver=\"GPKG\")\n",
    "\n",
    "# Leer la capa existente del GeoPackage base\n",
    "MAPA_TIPO_gdf = gpd.read_file(MAPA_TIPO_ruta, layer='Mapa_Tipologias')\n",
    "\n",
    "# Creación de campos y llenado de información\n",
    "MAPA_TIPO_gdf['DIFPOP'] = MAPA_TIPO_gdf['POPTOT2020'] - MAPA_TIPO_gdf['POPTOT2010']\n",
    "MAPA_TIPO_gdf['DIFVIV'] = MAPA_TIPO_gdf['VIVPAR2020'] - MAPA_TIPO_gdf['VIVPAR2010']\n",
    "MAPA_TIPO_gdf['RELPOP'] = MAPA_TIPO_gdf['DIFPOP'] / MAPA_TIPO_gdf['POPTOT2010']\n",
    "MAPA_TIPO_gdf['RELVIV'] = MAPA_TIPO_gdf['DIFVIV'] / MAPA_TIPO_gdf['VIVPAR2010']\n",
    "MAPA_TIPO_gdf['CVEPOP'] = np.where(MAPA_TIPO_gdf['RELPOP'] < -0.000000001, 'A', 'B')\n",
    "MAPA_TIPO_gdf['CVEVIV'] = np.select(\n",
    "    [MAPA_TIPO_gdf['RELVIV'] < -0.075, (MAPA_TIPO_gdf['RELVIV'] >= -0.075) & (MAPA_TIPO_gdf['RELVIV'] <= 0.075), MAPA_TIPO_gdf['RELVIV'] > 0.075],\n",
    "    [1, 2, 3]\n",
    ")\n",
    "MAPA_TIPO_gdf['CVE'] = MAPA_TIPO_gdf['CVEPOP'] + MAPA_TIPO_gdf['CVEVIV'].astype(str)\n",
    "MAPA_TIPO_gdf['TIPOLOGIA'] = np.where((MAPA_TIPO_gdf['POPTOT2020'] == 0) & (MAPA_TIPO_gdf['POPTOT2010'] == 0) & (MAPA_TIPO_gdf['VIVPAR2010'] == 0) & (MAPA_TIPO_gdf['CVE'] == 'B3'), 'B3\\'', MAPA_TIPO_gdf['CVE'])\n",
    "MAPA_TIPO_gdf['area_ha'] = MAPA_TIPO_gdf.area / 10000\n",
    "MAPA_TIPO_gdf['FILTRADO'] = MAPA_TIPO_gdf['VIVPAR2020'] / MAPA_TIPO_gdf['area_ha']**2\n",
    "\n",
    "# Guardar el GeoPackage base actualizado\n",
    "MAPA_TIPO_gdf.to_file(MAPA_TIPO_ruta, layer='Mapa_Tipologias', driver=\"GPKG\")\n",
    "\n",
    "# Leer la capa existente del GeoPackage base\n",
    "MAPA_TIPO_gdf = gpd.read_file(MAPA_TIPO_ruta, layer='Mapa_Tipologias')\n",
    "\n",
    "# Paso 6: Filtrado de información\n",
    "MAPA_TIPO_gdf_FILTRO = MAPA_TIPO_gdf[MAPA_TIPO_gdf['FILTRADO'] >= filtro]\n",
    "\n",
    "# Guardar el resultado final\n",
    "MAPA_TIPO_gdf_FILTRO.to_file(MAPA_TIPO_ruta, layer='Mapa_Tipologias_Filtrado', driver='GPKG')"
   ]
  },
  {
   "cell_type": "markdown",
   "id": "XpFbKA11LFDU",
   "metadata": {
    "id": "XpFbKA11LFDU"
   },
   "source": [
    "##Paso siete: Representación gráfica"
   ]
  },
  {
   "cell_type": "code",
   "execution_count": null,
   "id": "d7794d84",
   "metadata": {
    "id": "d7794d84"
   },
   "outputs": [],
   "source": [
    "#DATOS PARA GRÁFICA\n",
    "\n",
    "# Ruta del mapa rápido\n",
    "mapa_rapido_ruta = r\"C:\\Users\\Alejandro\\Downloads\\DATA\\Tratados\\CELAYA\\mapa_tipologias.png\""
   ]
  },
  {
   "cell_type": "code",
   "execution_count": null,
   "id": "573e8785",
   "metadata": {
    "id": "573e8785",
    "scrolled": true
   },
   "outputs": [],
   "source": [
    "# Paso 7: Representación gráfica rápida (desde código)\n",
    "import matplotlib.pyplot as plt\n",
    "\n",
    "def plot_map_with_legend(gdf, colormap, legend_labels, legend_title, save_path):\n",
    "    fig, ax = plt.subplots(1, 1)\n",
    "\n",
    "    # Mapear cada categoría a su color correspondiente\n",
    "    for category, color in colormap.items():\n",
    "        MAPA_TIPO_gdf_FILTRO[MAPA_TIPO_gdf_FILTRO['TIPOLOGIA'] == category].plot(ax=ax, color=color, label=category, edgecolor='none')\n",
    "\n",
    "    # Crear leyenda\n",
    "    handles = [plt.Rectangle((0,0),1,1, color=color) for color in colormap.values()]\n",
    "    ax.legend(handles, legend_labels, title=legend_title)\n",
    "\n",
    "    # Eliminar línea de contorno\n",
    "    ax.axis('off')\n",
    "\n",
    "    # Guardar el mapa como imagen\n",
    "    plt.savefig(save_path, bbox_inches='tight')\n",
    "    plt.show()\n",
    "\n",
    "# Definir el diccionario de colores\n",
    "colormap = {\n",
    "    'DH': '#882A1C',\n",
    "    'A1': '#E33F22',\n",
    "    'A2': '#E5B636',\n",
    "    'A3': '#FAF36A',\n",
    "    'B1': '#CAEA60',\n",
    "    'B2': '#60D512',\n",
    "    'B3': '#39781C',\n",
    "    'B3\\'': '#254D12'\n",
    "}\n",
    "\n",
    "# Definir etiquetas para la leyenda\n",
    "legend_labels = list(colormap.keys())\n",
    "\n",
    "# Título de la leyenda\n",
    "legend_title = 'Tipología'\n",
    "\n",
    "# Ruta donde se guardará el mapa\n",
    "map_image_path = mapa_rapido_ruta\n",
    "\n",
    "# Llamar a la función para generar y guardar el mapa\n",
    "plot_map_with_legend(MAPA_TIPO_gdf_FILTRO, colormap, legend_labels, legend_title, map_image_path)\n"
   ]
  }
 ],
 "metadata": {
  "colab": {
   "provenance": []
  },
  "kernelspec": {
   "display_name": "Python 3 (ipykernel)",
   "language": "python",
   "name": "python3"
  },
  "language_info": {
   "codemirror_mode": {
    "name": "ipython",
    "version": 3
   },
   "file_extension": ".py",
   "mimetype": "text/x-python",
   "name": "python",
   "nbconvert_exporter": "python",
   "pygments_lexer": "ipython3",
   "version": "3.10.9"
  }
 },
 "nbformat": 4,
 "nbformat_minor": 5
}
