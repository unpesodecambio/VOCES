{
 "cells": [
  {
   "cell_type": "code",
   "execution_count": 12,
   "id": "0b4e1e60-ef88-465c-8a94-56d06c5a144b",
   "metadata": {},
   "outputs": [],
   "source": [
    "import geopandas as gpd\n",
    "import pandas as pd\n",
    "import os"
   ]
  },
  {
   "cell_type": "markdown",
   "id": "31cbe8f1-bde4-4754-ad3f-4710bdadff1e",
   "metadata": {},
   "source": [
    "# 1. Recopilación de fuentes y categorización"
   ]
  },
  {
   "cell_type": "code",
   "execution_count": null,
   "id": "b61f885b-9265-4907-ab13-3258ddcfd94c",
   "metadata": {},
   "outputs": [],
   "source": [
    "#rutas\n",
    "\n",
    "# Ruta base donde se encuentran los archivos shapefile\n",
    "base_path = r\"C:\\Users\\Alejandro\\Downloads\\DATA\\SHP\"\n",
    "\n",
    "output_path_excel = r\"C:\\Users\\Alejandro\\Downloads\\DATA\\Tratados\\NAC\\EQUIPAMIENTOS\\Diccionario_2020.xlsx\"\n",
    "output_path_gpkg = r\"C:\\Users\\Alejandro\\Downloads\\DATA\\Tratados\\NAC\\EQUIPAMIENTOS\\Equipamientos_NAC_2020.gpkg\""
   ]
  },
  {
   "cell_type": "code",
   "execution_count": null,
   "id": "a4a26c04-d2cf-4d22-9ac6-0e29e0a4f13c",
   "metadata": {},
   "outputs": [],
   "source": [
    "#1.2 Carga de capas de información puntual, de ambos años, en Jupyter\n",
    "\n",
    "# Lista para almacenar los GeoDataFrames de cada estado\n",
    "gdfs = []\n",
    "\n",
    "# Recorrer los números de estado (del 01 al 32)\n",
    "for i in range(1, 33):\n",
    "    # Formatear el número del estado como 'XX' (ejemplo: 01, 02, 03...32)\n",
    "    state_code = f\"{i:02d}\"\n",
    "    # Crear la ruta completa del archivo shapefile\n",
    "    file_path = os.path.join(base_path, f\"{state_code}sip.shp\")\n",
    "    \n",
    "    # Cargar el shapefile y añadirlo a la lista\n",
    "    gdf_state = gpd.read_file(file_path)\n",
    "    gdfs.append(gdf_state)\n",
    "\n",
    "# Unir todos los GeoDataFrames en uno solo\n",
    "gdf_2020 = gpd.pd.concat(gdfs, ignore_index=True)\n",
    "\n",
    "# Verificar la unión exitosa\n",
    "print(f\"Total de registros en el archivo unido: {len(gdf_2020)}\")\n",
    "\n",
    "#guardar en gpkg\n",
    "gdf_2020.to_file(output_path_gpkg, layer='Eq_full_2020')\n",
    "\n",
    "\n",
    "\n",
    "#1.3 Desplegado de campos únicos\n",
    "\n",
    "# Agrupar por 'GEOGRÁFICO' y obtener los valores únicos de 'TIPO' para cada uno\n",
    "diccionario_geografico_tipo = {}\n",
    "\n",
    "# Recorrer cada valor único de GEOGRAFICO\n",
    "for geografico in gdf_2020['GEOGRAFICO'].unique():\n",
    "    # Filtrar los datos correspondientes al valor de 'GEOGRAFICO' actual\n",
    "    subset = gdf_2020[gdf_2020['GEOGRAFICO'] == geografico]\n",
    "    \n",
    "    # Obtener los valores únicos de 'TIPO' asociados a este 'GEOGRAFICO'\n",
    "    tipos = subset['TIPO'].unique()\n",
    "    \n",
    "    # Añadir al diccionario, si no tiene subniveles, ponemos una lista vacía\n",
    "    diccionario_geografico_tipo[geografico] = list(tipos) if len(tipos) > 0 else []\n",
    "\n",
    "# Mostrar el diccionario creado\n",
    "for geo, tipos in diccionario_geografico_tipo.items():\n",
    "    print(f\"{geo}: {tipos}\")\n",
    "\n",
    "\n",
    "#1.4 Desplegado de valores únicos en campos X e Y\n",
    "#1.5 Exportación de ambas listas en .xlsx\n",
    "\n",
    "# Convertir el diccionario en un DataFrame para exportar a Excel\n",
    "data = []\n",
    "\n",
    "# Recorrer el diccionario y estructurarlo en filas\n",
    "for geografico, tipos in diccionario_geografico_tipo.items():\n",
    "    if tipos:  # Si hay subniveles en 'TIPO'\n",
    "        for tipo in tipos:\n",
    "            data.append([geografico, tipo])\n",
    "    else:\n",
    "        data.append([geografico, None])  # Si no hay subniveles, ponemos 'None' en 'TIPO'\n",
    "\n",
    "# Crear DataFrame\n",
    "df_diccionario = pd.DataFrame(data, columns=['GEOGRAFICO', 'TIPO'])\n",
    "\n",
    "# Exportar a archivo Excel\n",
    "df_diccionario.to_excel(output_path_excel, index=False)\n",
    "\n",
    "print(f\"Diccionario exportado exitosamente a {output_path_excel}\")\n"
   ]
  },
  {
   "cell_type": "markdown",
   "id": "f3ac358d-5600-45db-8ec4-d4a84648ce35",
   "metadata": {},
   "source": [
    "# 2. Ponderación y niveles de servicio"
   ]
  },
  {
   "cell_type": "code",
   "execution_count": 13,
   "id": "0c969a4a-1c48-46b2-806e-4f37995c4f44",
   "metadata": {},
   "outputs": [],
   "source": [
    "# rutas\n",
    "equipamientos_gpkg = r\"C:\\Users\\Alejandro\\Downloads\\DATA\\Tratados\\NAC\\EQUIPAMIENTOS\\Equipamientos_NAC_2020.gpkg\"\n",
    "Diccionario_comentado = r\"C:\\Users\\Alejandro\\Downloads\\DATA\\Tratados\\NAC\\EQUIPAMIENTOS\\Diccionario_pond_2020.xlsx\""
   ]
  },
  {
   "cell_type": "code",
   "execution_count": 14,
   "id": "05b16e35-2f88-4945-a1b4-bfca8549b1d1",
   "metadata": {},
   "outputs": [
    {
     "name": "stdout",
     "output_type": "stream",
     "text": [
      "Exportado: Educación a la capa Educación en el geopackage\n",
      "Exportado: Salud a la capa Salud en el geopackage\n",
      "Exportado: Recreación a la capa Recreación en el geopackage\n",
      "Exportado: Servicios a la capa Servicios en el geopackage\n"
     ]
    }
   ],
   "source": [
    "# Cargar el diccionario actualizado con las nuevas columnas\n",
    "diccionario = pd.read_excel(Diccionario_comentado)\n",
    "\n",
    "# Unir el diccionario con el geodataframe gdf_2020 (asegurarse de que haya un campo en común, por ejemplo 'GEOGRAFICO' y 'TIPO')\n",
    "gdf_2020 = gdf_2020.merge(diccionario, on=['GEOGRAFICO', 'TIPO'], how='left')\n",
    "\n",
    "# Filtrar por categorías y exportar a archivos individuales\n",
    "\n",
    "# Crear una lista de categorías\n",
    "categorias = ['Educación', 'Salud', 'Recreación', 'Servicios']\n",
    "\n",
    "# Crear y exportar un GeoDataFrame por cada categoría a una capa dentro del geopackage\n",
    "for categoria in categorias:\n",
    "    # Filtrar los equipamientos de la categoría actual\n",
    "    gdf_categoria = gdf_2020[gdf_2020['CATEGORIA'] == categoria]\n",
    "    \n",
    "    # Exportar la categoría como una nueva capa en el geopackage\n",
    "    gdf_categoria.to_file(equipamientos_gpkg, layer=categoria, driver=\"GPKG\")\n",
    "    \n",
    "    print(f\"Exportado: {categoria} a la capa {categoria} en el geopackage\")"
   ]
  },
  {
   "cell_type": "markdown",
   "id": "0d816ed3-5a85-4674-bcba-ad8dbdda8dd5",
   "metadata": {},
   "source": [
    "# 3. Trabajo a nivel manzana"
   ]
  },
  {
   "cell_type": "code",
   "execution_count": null,
   "id": "01dc31a1-54e3-4ab7-a503-b494353ff0da",
   "metadata": {},
   "outputs": [],
   "source": [
    "#leer gpkg equipamientos\n",
    "\n",
    "output_path_gpkg = r\"C:\\Users\\Alejandro\\Downloads\\DATA\\Tratados\\NAC\\EQUIPAMIENTOS\\Equipamientos_NAC_2020.gpkg\"\n",
    "gdf_2020.read_file(equipamientos_gpkg, layer='Eq_full_2020')"
   ]
  }
 ],
 "metadata": {
  "kernelspec": {
   "display_name": "Python 3 (ipykernel)",
   "language": "python",
   "name": "python3"
  },
  "language_info": {
   "codemirror_mode": {
    "name": "ipython",
    "version": 3
   },
   "file_extension": ".py",
   "mimetype": "text/x-python",
   "name": "python",
   "nbconvert_exporter": "python",
   "pygments_lexer": "ipython3",
   "version": "3.11.7"
  }
 },
 "nbformat": 4,
 "nbformat_minor": 5
}
