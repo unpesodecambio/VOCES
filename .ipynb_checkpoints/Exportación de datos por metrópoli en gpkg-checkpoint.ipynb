{
 "cells": [
  {
   "cell_type": "code",
   "execution_count": null,
   "id": "da9ed588",
   "metadata": {},
   "outputs": [],
   "source": [
    "import geopandas as gpd\n",
    "from sqlalchemy import create_engine\n",
    "import os"
   ]
  },
  {
   "cell_type": "code",
   "execution_count": null,
   "id": "ee103068",
   "metadata": {},
   "outputs": [],
   "source": [
    "# Rutas de los archivos GeoPackage y Shapefile\n",
    "archivo_gpkg = r\"C:\\Users\\ADMIN\\OneDrive - Universidad de Guadalajara\\3. Voces\\2024\\Tipologías\\Nacional\\nacional_subtipologias.gpkg\"\n",
    "archivo_shp = r\"C:\\Users\\ADMIN\\OneDrive - Universidad de Guadalajara\\3. Voces\\2024\\Tipologías\\Nacional\\archivo_shapefile.shp\"\n",
    "\n",
    "# Cargar archivos como GeoDataFrames\n",
    "gdf_gpkg = gpd.read_file(archivo_gpkg)\n",
    "gdf_shp = gpd.read_file(archivo_shp)"
   ]
  },
  {
   "cell_type": "code",
   "execution_count": null,
   "id": "3a776ebf",
   "metadata": {},
   "outputs": [],
   "source": [
    "# Unir GeoDataFrames por el campo CVEGEO\n",
    "gdf_union = gdf_shp.merge(gdf_gpkg, on='CVEGEO', how='inner')\n",
    "\n",
    "# Calcular el área en hectáreas y almacenarla en una nueva columna\n",
    "gdf_union['area_ha'] = gdf_union['area'] / 10000"
   ]
  },
  {
   "cell_type": "code",
   "execution_count": null,
   "id": "2ee47416",
   "metadata": {},
   "outputs": [],
   "source": [
    "# Configuración de la conexión a la base de datos PostGIS\n",
    "nombre_base_datos = 'nombre_de_tu_base_de_datos'\n",
    "usuario = 'tu_usuario'\n",
    "contraseña = 'tu_contraseña'\n",
    "host = 'localhost'  # O el host de tu servidor PostgreSQL\n",
    "puerto = '5432'     # El puerto de tu servidor PostgreSQL\n",
    "tabla_destino = 'nombre_de_tu_tabla_destino'"
   ]
  },
  {
   "cell_type": "code",
   "execution_count": null,
   "id": "fc9d9853",
   "metadata": {},
   "outputs": [],
   "source": [
    "# Crear una conexión a la base de datos PostGIS\n",
    "engine = create_engine(f'postgresql://{usuario}:{contraseña}@{host}:{puerto}/{nombre_base_datos}')\n",
    "\n",
    "# Guardar el GeoDataFrame resultante en la tabla de PostGIS\n",
    "gdf_union.to_postgis(tabla_destino, engine, if_exists='replace', index=False)\n",
    "\n",
    "print(f\"Datos subidos a PostGIS en la tabla {tabla_destino}\")"
   ]
  }
 ],
 "metadata": {
  "kernelspec": {
   "display_name": "Python 3 (ipykernel)",
   "language": "python",
   "name": "python3"
  },
  "language_info": {
   "codemirror_mode": {
    "name": "ipython",
    "version": 3
   },
   "file_extension": ".py",
   "mimetype": "text/x-python",
   "name": "python",
   "nbconvert_exporter": "python",
   "pygments_lexer": "ipython3",
   "version": "3.11.3"
  }
 },
 "nbformat": 4,
 "nbformat_minor": 5
}
