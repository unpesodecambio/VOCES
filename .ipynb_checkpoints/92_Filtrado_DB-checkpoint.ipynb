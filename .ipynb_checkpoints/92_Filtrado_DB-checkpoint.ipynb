{
 "cells": [
  {
   "cell_type": "code",
   "execution_count": 1,
   "id": "363ead67-dea5-4e00-94cb-10b8538717d8",
   "metadata": {},
   "outputs": [],
   "source": [
    "import pandas as pd\n",
    "import geopandas as gpd\n",
    "\n",
    "# ### RUTA MET LOC - ALEJANDRO (local)\n",
    "# #ruta gpkg fin\n",
    "# MAPA_TIPO_ruta = r\"C:\\Users\\Alejandro\\Downloads\\DATA\\Tratados\\NAC\\DENUE_LOC_NAC\\Loc_Tipologías_NAC.gpkg\"\n",
    "# # Leer la capa existente del GeoPackage base\n",
    "# MAPA_TIPO_gdf = gpd.read_file(MAPA_TIPO_ruta, layer='Loc_SubTipologias_ue')\n",
    "\n",
    "### RUTA MZN EQ - ALEJANDRO (SSD)\n",
    "#ruta gpkg fin\n",
    "MAPA_TIPO_ruta  = r\"Z:\\VOCES\\DATA\\Tratados\\NAC\\INT_MZN_NAC\\Mzn_Tipologías_NAC_ImpEq_BufferB.gpkg\"\n",
    "capa_entrada = 'Mzn_Subtipologias_UeEQ'\n",
    "capa_salida = 'Mzn_Subtipologias_UeEQ_filtrado'\n",
    "\n",
    "# Leer la capa existente del GeoPackage base\n",
    "MAPA_TIPO_gdf = gpd.read_file(MAPA_TIPO_ruta, layer=capa_entrada)"
   ]
  },
  {
   "cell_type": "code",
   "execution_count": 2,
   "id": "04ddb999-e7f8-4f62-961b-8e5112133780",
   "metadata": {},
   "outputs": [],
   "source": [
    "#Valor del filtro\n",
    "filtro = 0.125\n",
    "\n",
    "# Creación de campos y llenado de información\n",
    "MAPA_TIPO_gdf['FILTRADO'] = MAPA_TIPO_gdf['VIVTOT2020'] / MAPA_TIPO_gdf['area_ha']**2\n",
    "\n",
    "# Filtrado de información\n",
    "MAPA_TIPO_gdf_FILTRO = MAPA_TIPO_gdf[MAPA_TIPO_gdf['FILTRADO'] >= filtro]"
   ]
  },
  {
   "cell_type": "code",
   "execution_count": 3,
   "id": "3f17feba-719c-4cf2-9b46-e7d052880b9d",
   "metadata": {},
   "outputs": [],
   "source": [
    "#Guardar base de datos filtrada\n",
    "MAPA_TIPO_gdf_FILTRO.to_file(MAPA_TIPO_ruta, layer=capa_salida, driver=\"GPKG\")"
   ]
  }
 ],
 "metadata": {
  "kernelspec": {
   "display_name": "Python 3 (ipykernel)",
   "language": "python",
   "name": "python3"
  },
  "language_info": {
   "codemirror_mode": {
    "name": "ipython",
    "version": 3
   },
   "file_extension": ".py",
   "mimetype": "text/x-python",
   "name": "python",
   "nbconvert_exporter": "python",
   "pygments_lexer": "ipython3",
   "version": "3.12.7"
  }
 },
 "nbformat": 4,
 "nbformat_minor": 5
}
