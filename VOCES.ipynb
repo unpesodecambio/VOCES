{
 "cells": [
  {
   "cell_type": "code",
   "execution_count": 5,
   "id": "1133c2f2",
   "metadata": {},
   "outputs": [
    {
     "name": "stdout",
     "output_type": "stream",
     "text": [
      "Collecting geopandas\n",
      "  Downloading geopandas-0.14.3-py3-none-any.whl (1.1 MB)\n",
      "     ---------------------------------------- 1.1/1.1 MB 1.9 MB/s eta 0:00:00\n",
      "Collecting pyproj>=3.3.0\n",
      "  Downloading pyproj-3.6.1-cp310-cp310-win_amd64.whl (6.1 MB)\n",
      "     ---------------------------------------- 6.1/6.1 MB 2.2 MB/s eta 0:00:00\n",
      "Requirement already satisfied: pandas>=1.4.0 in c:\\users\\alejandro\\anaconda3\\lib\\site-packages (from geopandas) (1.5.3)\n",
      "Collecting fiona>=1.8.21\n",
      "  Downloading fiona-1.9.5-cp310-cp310-win_amd64.whl (22.9 MB)\n",
      "     ---------------------------------------- 22.9/22.9 MB 2.7 MB/s eta 0:00:00\n",
      "Requirement already satisfied: packaging in c:\\users\\alejandro\\anaconda3\\lib\\site-packages (from geopandas) (22.0)\n",
      "Collecting shapely>=1.8.0\n",
      "  Downloading shapely-2.0.3-cp310-cp310-win_amd64.whl (1.4 MB)\n",
      "     ---------------------------------------- 1.4/1.4 MB 3.0 MB/s eta 0:00:00\n",
      "Requirement already satisfied: certifi in c:\\users\\alejandro\\anaconda3\\lib\\site-packages (from fiona>=1.8.21->geopandas) (2022.12.7)\n",
      "Requirement already satisfied: six in c:\\users\\alejandro\\anaconda3\\lib\\site-packages (from fiona>=1.8.21->geopandas) (1.16.0)\n",
      "Requirement already satisfied: click~=8.0 in c:\\users\\alejandro\\anaconda3\\lib\\site-packages (from fiona>=1.8.21->geopandas) (8.0.4)\n",
      "Collecting cligj>=0.5\n",
      "  Downloading cligj-0.7.2-py3-none-any.whl (7.1 kB)\n",
      "Collecting click-plugins>=1.0\n",
      "  Downloading click_plugins-1.1.1-py2.py3-none-any.whl (7.5 kB)\n",
      "Requirement already satisfied: attrs>=19.2.0 in c:\\users\\alejandro\\anaconda3\\lib\\site-packages (from fiona>=1.8.21->geopandas) (22.1.0)\n",
      "Requirement already satisfied: setuptools in c:\\users\\alejandro\\anaconda3\\lib\\site-packages (from fiona>=1.8.21->geopandas) (65.6.3)\n",
      "Requirement already satisfied: python-dateutil>=2.8.1 in c:\\users\\alejandro\\anaconda3\\lib\\site-packages (from pandas>=1.4.0->geopandas) (2.8.2)\n",
      "Requirement already satisfied: pytz>=2020.1 in c:\\users\\alejandro\\anaconda3\\lib\\site-packages (from pandas>=1.4.0->geopandas) (2022.7)\n",
      "Requirement already satisfied: numpy>=1.21.0 in c:\\users\\alejandro\\anaconda3\\lib\\site-packages (from pandas>=1.4.0->geopandas) (1.23.5)\n",
      "Requirement already satisfied: colorama in c:\\users\\alejandro\\anaconda3\\lib\\site-packages (from click~=8.0->fiona>=1.8.21->geopandas) (0.4.6)\n",
      "Installing collected packages: shapely, pyproj, cligj, click-plugins, fiona, geopandas\n",
      "Successfully installed click-plugins-1.1.1 cligj-0.7.2 fiona-1.9.5 geopandas-0.14.3 pyproj-3.6.1 shapely-2.0.3\n",
      "Note: you may need to restart the kernel to use updated packages.\n"
     ]
    }
   ],
   "source": [
    "pip install geopandas"
   ]
  },
  {
   "cell_type": "code",
   "execution_count": 8,
   "id": "7c697c04",
   "metadata": {},
   "outputs": [
    {
     "name": "stdout",
     "output_type": "stream",
     "text": [
      "Collecting dbfread\n",
      "  Downloading dbfread-2.0.7-py2.py3-none-any.whl (20 kB)\n",
      "Installing collected packages: dbfread\n",
      "Successfully installed dbfread-2.0.7\n",
      "Note: you may need to restart the kernel to use updated packages.\n"
     ]
    }
   ],
   "source": [
    "pip install dbfread"
   ]
  },
  {
   "cell_type": "code",
   "execution_count": 9,
   "id": "25f583b2",
   "metadata": {},
   "outputs": [],
   "source": [
    "import pandas as pd\n",
    "import geopandas as gpd\n",
    "import numpy as np\n",
    "from shapely.geometry import Polygon\n",
    "from dbfread import DBF"
   ]
  },
  {
   "cell_type": "code",
   "execution_count": null,
   "id": "fbd05bf9",
   "metadata": {},
   "outputs": [],
   "source": [
    "#PASO 1 - Delimitación del área de estudio\n",
    "\n",
    "area_estudio = gpd.read_file(\"ruta/al/shapefile_o_GeoJSON\")"
   ]
  },
  {
   "cell_type": "code",
   "execution_count": 22,
   "id": "d73fb805",
   "metadata": {},
   "outputs": [],
   "source": [
    "#PASO DOS - Preparación de información censal\n",
    "\n",
    "# Función para cargar datos de archivo DBF y convertirlos a DataFrame\n",
    "def load_dbf_to_dataframe(file_path):\n",
    "    table = DBF(file_path)\n",
    "    return pd.DataFrame(iter(table))\n",
    "\n",
    "# Cargar archivos en un DataFrame\n",
    "MZNA_2020_df = pd.read_csv(r\"C:\\Users\\Alejandro\\Downloads\\DATA\\2020\\MZNA\\RESAGEBURB_11CSV20.csv\")\n",
    "ITER_2020_df = pd.read_csv(r\"C:\\Users\\Alejandro\\Downloads\\DATA\\2020\\ITER\\ITER_NALCSV20.csv\")\n",
    "\n",
    "MZNA_2010_df = load_dbf_to_dataframe(r\"C:\\Users\\Alejandro\\Downloads\\DATA\\2010\\MZNA\\RESAGEBURB_11DBF10.dbf\")\n",
    "ITER_2010_df = load_dbf_to_dataframe(r\"C:\\Users\\Alejandro\\Downloads\\DATA\\2010\\ITER\\ITER_NALDBF10.dbf\")"
   ]
  },
  {
   "cell_type": "code",
   "execution_count": null,
   "id": "1b3c70d6",
   "metadata": {
    "scrolled": true
   },
   "outputs": [],
   "source": [
    "# 2.2 Homologación de ID urbana\n",
    "# Creamos el campo CVEGEO concatenando claves.\n",
    "def homologate_urban_id(row):\n",
    "    return f\"{row['ENTIDAD']}{row['MUN']}{row['LOC']}{row['AGEB']}{row['MZA']}\"\n",
    "\n",
    "# 3.2 Homologación de ID rural\n",
    "def homologate_rural_id(row):\n",
    "    return f\"{row['ENTIDAD']}{row['MUN']}{row['LOC']}0000000\"\n",
    "\n",
    "MZNA_2020_df['CVEGEO'] = MZNA_2020_df.apply(homologate_urban_id, axis=1)\n",
    "MZNA_2010_df['CVEGEO'] = MZNA_2010_df.apply(homologate_urban_id, axis=1)\n",
    "\n",
    "ITER_2020_df['CVEGEO'] = ITER_2020_df.apply(homologate_rural_id, axis=1)\n",
    "ITER_2010_df['CVEGEO'] = ITER_2010_df.apply(homologate_rural_id, axis=1)"
   ]
  },
  {
   "cell_type": "code",
   "execution_count": 31,
   "id": "fdcec83c",
   "metadata": {},
   "outputs": [],
   "source": [
    "#reemplazar *\n",
    "def replace(dataframe):\n",
    "    return dataframe.replace('*', '0')\n",
    "\n",
    "replace(MZNA_2020_df)\n",
    "replace(MZNA_2010_df)\n",
    "replace(ITER_2020_df)\n",
    "replace(ITER_2010_df)"
   ]
  },
  {
   "cell_type": "code",
   "execution_count": null,
   "id": "91a31106",
   "metadata": {},
   "outputs": [],
   "source": [
    "# Función para filtrar información por municipios correspondientes\n",
    "def filtrar municipios(dataframe, municipios):\n",
    "    return dataframe[dataframe['CVEGEO'].isin(municipios)]\n",
    "\n",
    "municipios = ['002', '039', '044', '051' , '070', '097', '098', '101', '120', '124']\n",
    "\n",
    "# aplicar filtrado por municipios\n",
    "MZNA_2020_df_filter = filter_by_municipios(MZNA_2020_df, municipios)\n",
    "MZNA_2010_df_filter = filter_by_municipios(MZNA_2010_df, municipios)\n",
    "ITER_2020_df_filter = filter_by_municipios(ITER_2020_df, municipios)\n",
    "ITER_2010_df_filter = filter_by_municipios(ITER_2010_df, municipios)"
   ]
  },
  {
   "cell_type": "code",
   "execution_count": 29,
   "id": "bdff333d",
   "metadata": {},
   "outputs": [],
   "source": [
    "# 2.3 Guardado de información en CSV\n",
    "def save_to_csv(dataframe, filename):\n",
    "    dataframe.to_csv(filename, index=False)\n",
    "    \n",
    "save_to_csv(MZNA_2020_df, r\"C:\\Users\\Alejandro\\Downloads\\DATA\\Tratados\\CONCATENADOS\\MZNA_2020_CONCAT.csv\")\n",
    "save_to_csv(MZNA_2010_df, r\"C:\\Users\\Alejandro\\Downloads\\DATA\\Tratados\\CONCATENADOS\\MZNA_2010_CONCAT.csv\")\n",
    "save_to_csv(ITER_2020_df, r\"C:\\Users\\Alejandro\\Downloads\\DATA\\Tratados\\CONCATENADOS\\ITER_2020_CONCAT.csv\")\n",
    "save_to_csv(ITER_2010_df, r\"C:\\Users\\Alejandro\\Downloads\\DATA\\Tratados\\CONCATENADOS\\ITER_2010_CONCAT.csv\")"
   ]
  },
  {
   "cell_type": "code",
   "execution_count": null,
   "id": "be9f76db",
   "metadata": {},
   "outputs": [],
   "source": [
    "#PASO TRES - Unión de información estadística y cartografía\n",
    "\n",
    "#Carga de información estadística y cartográfica\n",
    "SHP_MZN = r\"C:\\Users\\Alejandro\\Downloads\\DATA\\SHP\\11m.shp\n",
    "SHP_LOC = r\"C:\\Users\\Alejandro\\Downloads\\DATA\\SHP\\11l.shp\"\n",
    "\n",
    "# Utilizamos geopandas para cargar datos geoespaciales.\n",
    "SHP_MZN_gdf = gpd.read_file(SHP_MZN)\n",
    "SHP_LOC_gdf = gpd.read_file(SHP_LOC)"
   ]
  },
  {
   "cell_type": "code",
   "execution_count": null,
   "id": "1d631024",
   "metadata": {},
   "outputs": [],
   "source": [
    "# 4.2 Filtrado de información por municipio\n",
    "municipios = ['002', '039', '044', '051' , '070', '097', '098', '101', '120', '124']\n",
    "\n",
    "SHP_MZN_gdf_filter = SHP_MZN_gdf[SHP_MZN_gdf['CVEGEO'].isin(municipios)]\n",
    "SHP_LOC_gdf_filter = SHP_LOC_gdf[SHP_LOC_gdf['CVEGEO'].isin(municipios)]\n",
    "\n"
   ]
  },
  {
   "cell_type": "code",
   "execution_count": null,
   "id": "f9a5c04c",
   "metadata": {},
   "outputs": [],
   "source": [
    "# 4.3 Guardado de nueva capa principal\n",
    "MAPA_TIPO_gpkg = \"Mapa_Tipologias.gpkg\"\n",
    "SHP_MZN_gdf_filter.to_file(MAPA_TIPO_gpkg, layer='Mapa_Tipologias', driver='GPKG')"
   ]
  },
  {
   "cell_type": "code",
   "execution_count": null,
   "id": "8133ab41",
   "metadata": {},
   "outputs": [],
   "source": [
    "# 4.4 Selección de ITER rural y unión de información\n",
    "SHP_LOC_gdf_filter_RURAL = gdf_iter[gdf_iter['TIPO'] == 'Rural']\n",
    "\n",
    "# Guardar los elementos filtrados en el GeoPackage base\n",
    "SHP_LOC_gdf_filter_RURAL.to_file(MAPA_TIPO_gpkg, layer='Mapa_Tipologias', driver='GPKG', append=True)"
   ]
  },
  {
   "cell_type": "code",
   "execution_count": null,
   "id": "7913ce93",
   "metadata": {},
   "outputs": [],
   "source": [
    "# Leer el GeoPackage base\n",
    "MAPA_TIPO_gdf = gpd.read_file(MAPA_TIPO_gpkg)\n",
    "\n",
    "# Unir campos de los DataFrames al GeoPackage base por CVEGEO\n",
    "MAPA_TIPO_gdf = MAPA_TIPO_gdf.merge(MZNA_2020_df[['CVEGEO', 'POBTOT', 'VIVPAR', 'VIVPAR_DES']], on='CVEGEO', how='left')\n",
    "MAPA_TIPO_gdf = MAPA_TIPO_gdf.merge(ITER_2020_df[['CVEGEO', 'POBTOT', 'VIVPAR']], on='CVEGEO', how='left')\n",
    "MAPA_TIPO_gdf = MAPA_TIPO_gdf.merge(MZNA_2010_df[['CVEGEO', 'POBTOT', 'VIVPAR', 'VIVPAR_DES']], on='CVEGEO', how='left')\n",
    "MAPA_TIPO_gdf = MAPA_TIPO_gdf.merge(ITER_2010_df[['CVEGEO', 'POBTOT', 'VIVPAR']], on='CVEGEO', how='left')\n",
    "\n",
    "# Crear campos POPTOT2010, POPTOT2020, VIVPAR2010 y VIVPAR2020 y llenado respectivamente\n",
    "MAPA_TIPO_gdf['POPTOT2010'] = MAPA_TIPO_gdf['POBTOT_x'].fillna(0) + MAPA_TIPO_df['POBTOT_y'].fillna(0)\n",
    "MAPA_TIPO_gdf['POPTOT2020'] = MAPA_TIPO_gdf['POBTOT'].fillna(0)\n",
    "MAPA_TIPO_gdf['VIVPAR2010'] = MAPA_TIPO_gdf['VIVPAR_x'].fillna(0) + gdf_base['VIVPAR_DES'].fillna(0) + gdf_base['VIVPAR_y'].fillna(0)\n",
    "MAPA_TIPO_gdf['VIVPAR2020'] = MAPA_TIPO_gdf['VIVPAR'].fillna(0)\n",
    "\n",
    "# Actualizar valores sin información de \"null\" a 0\n",
    "MAPA_TIPO_gdf = gdf_base.fillna(0)\n",
    "\n",
    "# Guardar el GeoPackage base actualizado\n",
    "MAPA_TIPO_gdf.to_file(MAPA_TIPO_gpkg, layer='Mapa_Tipologias', driver=\"GPKG\")\n"
   ]
  },
  {
   "cell_type": "code",
   "execution_count": null,
   "id": "8b2882cf",
   "metadata": {},
   "outputs": [],
   "source": [
    "#PASO CUATRO - Creación de los campos necesarios para el mapa final\n",
    "#PASO CINCO - Llenado de informacióN\n",
    "\n",
    "# Paso 5: Creación de campos y llenado de información\n",
    "MAPA_TIPO_gdf['DIFPOP'] = MAPA_TIPO_gdf['POPTOT2020'] - MAPA_TIPO_gdf['POPTOT2010']\n",
    "MAPA_TIPO_gdf['DIFVIV'] = MAPA_TIPO_gdf['VIVTOT2020'] - MAPA_TIPO_gdf['VIVTOT2010']\n",
    "MAPA_TIPO_gdf['RELPOP'] = MAPA_TIPO_gdf['DIFPOP'] / MAPA_TIPO_gdf['POPTOT2010']\n",
    "MAPA_TIPO_gdf['RELVIV'] = MAPA_TIPO_gdf['DIFVIV'] / MAPA_TIPO_gdf['VIVTOT2010']\n",
    "MAPA_TIPO_gdf['CVEPOP'] = np.where(MAPA_TIPO_gdf['RELPOP'] < -0.000000001, 'A', 'B')\n",
    "MAPA_TIPO_gdf['CVEVIV'] = np.select(\n",
    "    [MAPA_TIPO_gdf['RELVIV'] < -0.075, (MAPA_TIPO_gdf['RELVIV'] >= -0.075) & (MAPA_TIPO_gdf['RELVIV'] <= 0.075), MAPA_TIPO_gdf['RELVIV'] > 0.075],\n",
    "    [1, 2, 3]\n",
    ")\n",
    "MAPA_TIPO_gdf['CVE'] = MAPA_TIPO_gdf['CVEPOP'] + MAPA_TIPO_gdf['CVEVIV'].astype(str)\n",
    "MAPA_TIPO_gdf['TIPOLOGIA'] = np.where((MAPA_TIPO_gdf['POPTOT2020'] == 0) & (MAPA_TIPO_gdf['POPTOT2010'] == 0) & (MAPA_TIPO_gdf['VIVTOT2010'] == 0) & (MAPA_TIPO_gdf['TIPOLOGIA'] == 'B3'), 'B3', MAPA_TIPO_gdf['TIPOLOGIA'])\n",
    "MAPA_TIPO_gdf['area_ha'] = gdf_merged.area / 10000\n",
    "MAPA_TIPO_gdf['FILTRADO'] = gdf_merged['VIVTOT2020'] / gdf_merged['area_ha']**2\n"
   ]
  },
  {
   "cell_type": "code",
   "execution_count": null,
   "id": "77c09546",
   "metadata": {},
   "outputs": [],
   "source": [
    "#PASO SEIS - Llenado de informacióN\n",
    "\n",
    "# Paso 6: Filtrado de información\n",
    "MAPA_TIPO_gdf_FILTRO = MAPA_TIPO_gdf[MAPA_TIPO_gdf['FILTRADO'] >= 0.125]"
   ]
  },
  {
   "cell_type": "code",
   "execution_count": null,
   "id": "653a2a59",
   "metadata": {},
   "outputs": [],
   "source": [
    "# Guardar el resultado final\n",
    "MAPA_TIPO_FILTRO_gpkg = \"Mapa_Tipologias_Filtrado.gpkg\"\n",
    "MAPA_TIPO_gdf_FILTRO.to_file(MAPA_TIPO_FILTRO_gpkg, layer='Mapa_Tipologias_Filtrado', driver='GPKG')"
   ]
  },
  {
   "cell_type": "code",
   "execution_count": null,
   "id": "b4faba9f",
   "metadata": {},
   "outputs": [],
   "source": [
    "# Paso 7: Representación gráfica\n",
    "import matplotlib.pyplot as plt\n",
    "\n",
    "def plot_map_with_legend(gdf, colormap, legend_labels, legend_title, save_path):\n",
    "    fig, ax = plt.subplots(1, 1)\n",
    "    \n",
    "    # Mapear cada categoría a su color correspondiente\n",
    "    for category, color in colormap.items():\n",
    "        gdf[gdf['TIPOLOGIA'] == category].plot(ax=ax, color=color, label=category, edgecolor='none')\n",
    "    \n",
    "    # Crear leyenda\n",
    "    handles = [plt.Rectangle((0,0),1,1, color=color) for color in colormap.values()]\n",
    "    ax.legend(handles, legend_labels, title=legend_title)\n",
    "    \n",
    "    # Eliminar línea de contorno\n",
    "    ax.axis('off')\n",
    "    \n",
    "    # Guardar el mapa como imagen\n",
    "    plt.savefig(save_path, bbox_inches='tight')\n",
    "    plt.show()\n",
    "\n",
    "# Definir el diccionario de colores\n",
    "colormap = {\n",
    "    'DH': '#882A1C',\n",
    "    'A1': '#E33F22',\n",
    "    'A2': '#E5B636',\n",
    "    'A3': '#FAF36A',\n",
    "    'B1': '#CAEA60',\n",
    "    'B2': '#60D512',\n",
    "    'B3': '#39781C',\n",
    "    'B3\\'': '#254D12'\n",
    "}\n",
    "\n",
    "# Definir etiquetas para la leyenda\n",
    "legend_labels = list(colormap.keys())\n",
    "\n",
    "# Título de la leyenda\n",
    "legend_title = 'Tipología'\n",
    "\n",
    "# Ruta donde se guardará el mapa\n",
    "map_image_path = \"mapa_tipologias.png\"\n",
    "\n",
    "# Llamar a la función para generar y guardar el mapa\n",
    "plot_map_with_legend(gdf_filtered, colormap, legend_labels, legend_title, map_image_path)\n"
   ]
  }
 ],
 "metadata": {
  "kernelspec": {
   "display_name": "Python 3 (ipykernel)",
   "language": "python",
   "name": "python3"
  },
  "language_info": {
   "codemirror_mode": {
    "name": "ipython",
    "version": 3
   },
   "file_extension": ".py",
   "mimetype": "text/x-python",
   "name": "python",
   "nbconvert_exporter": "python",
   "pygments_lexer": "ipython3",
   "version": "3.10.9"
  }
 },
 "nbformat": 4,
 "nbformat_minor": 5
}
