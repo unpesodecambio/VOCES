{
 "cells": [
  {
   "cell_type": "code",
   "execution_count": 1,
   "id": "71f0bf79-b4c3-48fb-8abe-1149051ead1f",
   "metadata": {},
   "outputs": [],
   "source": [
    "import pandas as pd\n",
    "import geopandas as gpd\n",
    "import numpy as np\n",
    "from shapely.geometry import Polygon\n",
    "from dbfread import DBF\n",
    "import jenkspy\n",
    "import json\n",
    "from jenkspy import jenks_breaks"
   ]
  },
  {
   "cell_type": "code",
   "execution_count": 2,
   "id": "a370af3b-4983-44a1-b586-2e26aff1bc04",
   "metadata": {},
   "outputs": [],
   "source": [
    "MAPA_TIPO_ruta = r\"C:\\Users\\ADMIN\\OneDrive - Universidad de Guadalajara\\3. Voces\\2024\\Ciudades\\Ciudad Guzman\\241031 tipologías_ams.gpkg\"\n",
    "\n",
    "#Valor del filtro\n",
    "filtro = 0\n",
    "\n",
    "# Define el CRS proyectado que deseas utilizar\n",
    "CRS_PROYECTADO = 'EPSG:6368' "
   ]
  },
  {
   "cell_type": "code",
   "execution_count": 3,
   "id": "e0057613-5408-4821-b518-bf024e43629e",
   "metadata": {},
   "outputs": [],
   "source": [
    "# Leer la capa existente del GeoPackage base\n",
    "MAPA_TIPO_gdf = gpd.read_file(MAPA_TIPO_ruta)"
   ]
  },
  {
   "cell_type": "code",
   "execution_count": 4,
   "id": "8ed8ea38-5f10-40ee-acca-ce9324bbc95e",
   "metadata": {},
   "outputs": [],
   "source": [
    "# Define el CRS proyectado que deseas utilizar\n",
    "CRS_PROYECTADO = 'EPSG:6372' \n",
    "\n",
    "# Proyecta el GeoDataFrame a un CRS proyectado\n",
    "MAPA_TIPO_gdf = MAPA_TIPO_gdf.to_crs(CRS_PROYECTADO)\n",
    "\n",
    "# Creación de campos y llenado de información\n",
    "MAPA_TIPO_gdf['area_ha'] = MAPA_TIPO_gdf.area / 10000\n",
    "MAPA_TIPO_gdf['FILTRADO'] = MAPA_TIPO_gdf['VIVTOT2020'] / MAPA_TIPO_gdf['area_ha']**2\n",
    "MAPA_TIPO_gdf['DESHABITACION'] = MAPA_TIPO_gdf['VIVPARDES2020'] / MAPA_TIPO_gdf['VIVTOT2020']"
   ]
  },
  {
   "cell_type": "code",
   "execution_count": 5,
   "id": "d5fbb461-49e4-4b77-b203-30a570c127aa",
   "metadata": {},
   "outputs": [],
   "source": [
    "MAPA_TIPO_gdf['PROM_DESHAB_MUN'] = MAPA_TIPO_gdf.groupby('CVE_MUN')['DESHABITACION'].transform('mean')\n",
    "\n",
    "\n",
    "# Calcular las sumas de POPTOT2020 y POPTOT2010 por CVE_MET\n",
    "sum_poptot2020 = MAPA_TIPO_gdf.groupby('CVE_MUN')['POPTOT2020'].transform('sum')\n",
    "sum_poptot2010 = MAPA_TIPO_gdf.groupby('CVE_MUN')['POPTOT2010'].transform('sum')\n",
    "\n",
    "# Calcular TASA_POP_MUN\n",
    "MAPA_TIPO_gdf['TASA_POP_MUN'] = (((sum_poptot2020 / sum_poptot2010) ** (1/10)) - 1) * 100"
   ]
  },
  {
   "cell_type": "code",
   "execution_count": 6,
   "id": "81fe0d60-b863-4b3c-9f47-dfb05f282d7d",
   "metadata": {},
   "outputs": [],
   "source": [
    "# resto de campos\n",
    "MAPA_TIPO_gdf['DIFPOP'] = MAPA_TIPO_gdf['POPTOT2020'] - MAPA_TIPO_gdf['POPTOT2010']\n",
    "MAPA_TIPO_gdf['DIFVIV'] = MAPA_TIPO_gdf['VIVTOT2020'] - MAPA_TIPO_gdf['VIVTOT2010']\n",
    "MAPA_TIPO_gdf['RELPOP'] = MAPA_TIPO_gdf['DIFPOP'] / MAPA_TIPO_gdf['POPTOT2010']\n",
    "MAPA_TIPO_gdf['RELVIV'] = MAPA_TIPO_gdf['DIFVIV'] / MAPA_TIPO_gdf['VIVTOT2010']\n",
    "MAPA_TIPO_gdf['CVEPOP'] = np.where(MAPA_TIPO_gdf['RELPOP'] < -0.000000001, 'A', 'B')\n",
    "MAPA_TIPO_gdf['CVEVIV'] = np.where(MAPA_TIPO_gdf['RELVIV'] < -.0703, '1',\n",
    "                                   np.where((MAPA_TIPO_gdf['RELVIV'] >= -.0703) & (MAPA_TIPO_gdf['RELVIV'] <= .0703), \n",
    "                                            '2', '3'))\n",
    "MAPA_TIPO_gdf['CVE'] = MAPA_TIPO_gdf['CVEPOP'] + MAPA_TIPO_gdf['CVEVIV'].astype(str)\n",
    "conditions = [\n",
    "    (MAPA_TIPO_gdf['POPTOT2020'] == 0),\n",
    "    (MAPA_TIPO_gdf['POPTOT2010'] == 0) & (MAPA_TIPO_gdf['VIVTOT2010'] == 0) & (MAPA_TIPO_gdf['CVE'] == 'B3')\n",
    "]\n",
    "choices = ['DH', 'B3\\'']\n",
    "MAPA_TIPO_gdf['TIPOLOGIA'] = np.select(conditions, choices, default=MAPA_TIPO_gdf['CVE'])\n",
    "\n",
    "MAPA_TIPO_gdf['DENS_POP10'] = MAPA_TIPO_gdf['POPTOT2010'] / MAPA_TIPO_gdf['area_ha']\n",
    "MAPA_TIPO_gdf['DENS_POP20'] = MAPA_TIPO_gdf['POPTOT2020'] / MAPA_TIPO_gdf['area_ha']\n",
    "\n",
    "MAPA_TIPO_gdf['DENS_VIV10'] = MAPA_TIPO_gdf['VIVTOT2010'] / MAPA_TIPO_gdf['area_ha']\n",
    "MAPA_TIPO_gdf['DENS_VIV20'] = MAPA_TIPO_gdf['VIVTOT2020'] / MAPA_TIPO_gdf['area_ha']\n",
    "\n",
    "MAPA_TIPO_gdf['CUARTOS2010'] = ((MAPA_TIPO_gdf['VIV1C2010']*1) + (MAPA_TIPO_gdf['VIV2C2010']*2) + (MAPA_TIPO_gdf['VIV3CYM2010']*4))\n",
    "MAPA_TIPO_gdf['CUARTOS2020'] = ((MAPA_TIPO_gdf['VIV1C2020']*1) + (MAPA_TIPO_gdf['VIV2C2020']*2) + (MAPA_TIPO_gdf['VIV3CYM2020']*4))\n",
    "\n",
    "MAPA_TIPO_gdf['CPERC2010'] = MAPA_TIPO_gdf['CUARTOS2010'] / MAPA_TIPO_gdf['POPTOT2010']\n",
    "MAPA_TIPO_gdf['CPERC2020'] = MAPA_TIPO_gdf['CUARTOS2020'] / MAPA_TIPO_gdf['POPTOT2020']\n",
    "\n",
    "MAPA_TIPO_gdf['HABXVIV2010'] = MAPA_TIPO_gdf['POPTOT2010'] / MAPA_TIPO_gdf['VIVTOT2010']\n",
    "MAPA_TIPO_gdf['HABXVIV2020'] = MAPA_TIPO_gdf['POPTOT2020'] / MAPA_TIPO_gdf['VIVTOT2020']\n",
    "\n",
    "# Redondear los cálculos a 3 dígitos\n",
    "columns_to_round = ['DIFPOP', 'DIFVIV', 'RELPOP', 'RELVIV', 'DENS_POP20', 'DENS_POP10', 'DENS_VIV20', 'DENS_VIV10', \n",
    "                    'CUARTOS2010', 'CUARTOS2020', 'CPERC2010', 'CPERC2020', 'HABXVIV2010', 'HABXVIV2020']\n",
    "MAPA_TIPO_gdf[columns_to_round] = MAPA_TIPO_gdf[columns_to_round].round(3)\n",
    "\n",
    "\n",
    "# Guardar el GeoPackage base actualizado\n",
    "MAPA_TIPO_gdf.to_file(MAPA_TIPO_ruta, layer='Mapa_Tipologias_sin_filtro', driver=\"GPKG\")\n",
    "\n",
    "# Filtrado de información\n",
    "MAPA_TIPO_gdf_FILTRO = MAPA_TIPO_gdf[MAPA_TIPO_gdf['FILTRADO'] >= filtro]\n",
    "\n",
    "# Guardar el resultado final\n",
    "MAPA_TIPO_gdf_FILTRO.to_file(MAPA_TIPO_ruta, layer='Mapa_Tipologias_Filtrado', driver='GPKG')"
   ]
  },
  {
   "cell_type": "code",
   "execution_count": 7,
   "id": "a97129dd-18c5-4647-b845-cd3f1d97c88f",
   "metadata": {},
   "outputs": [],
   "source": [
    "# Subtipologías\n",
    "def asignar_subtipologia(row):\n",
    "    # Valores específicos para deshabitación\n",
    "    rangos_deshabitacion_grupo = [0, .0703, .1406, .2812]\n",
    "    \n",
    "# Asignar subtipología según los rangos definidos\n",
    "    if rangos_deshabitacion_grupo[0] <= row['DESHABITACION'] < rangos_deshabitacion_grupo[1]:\n",
    "        return 'a'\n",
    "    elif rangos_deshabitacion_grupo[1] <= row['DESHABITACION'] < rangos_deshabitacion_grupo[2]:\n",
    "        return 'b'\n",
    "    elif rangos_deshabitacion_grupo[2] <= row['DESHABITACION'] < rangos_deshabitacion_grupo[3]:\n",
    "        return 'c'\n",
    "    elif row['DESHABITACION'] >= rangos_deshabitacion_grupo[3]:\n",
    "        return 'd'\n",
    "    else:\n",
    "        return '0'  # Valor predeterminado\n",
    "\n",
    "# Crear un nuevo campo 'R_DESHAB' y llenarlo con las subtipologías asignadas\n",
    "MAPA_TIPO_gdf_FILTRO['R_DESHAB'] = MAPA_TIPO_gdf_FILTRO.apply(asignar_subtipologia, axis=1)\n",
    "\n",
    "# Crear el campo SUBTIPOLOGÍA\n",
    "MAPA_TIPO_gdf_FILTRO['SUBTIPOLOGÍA'] = MAPA_TIPO_gdf_FILTRO['TIPOLOGIA'].astype(str) + '-' + MAPA_TIPO_gdf_FILTRO['R_DESHAB'].astype(str)\n",
    "\n",
    "# Guardar el GeoPackage con los nuevos campos\n",
    "MAPA_TIPO_gdf_FILTRO.to_file(MAPA_TIPO_ruta, layer='Mapa_SubTipologias', driver='GPKG')"
   ]
  },
  {
   "cell_type": "code",
   "execution_count": null,
   "id": "5c383eb4-c8be-4a4e-8a39-5b80e377f030",
   "metadata": {},
   "outputs": [],
   "source": []
  }
 ],
 "metadata": {
  "kernelspec": {
   "display_name": "Python 3 (ipykernel)",
   "language": "python",
   "name": "python3"
  },
  "language_info": {
   "codemirror_mode": {
    "name": "ipython",
    "version": 3
   },
   "file_extension": ".py",
   "mimetype": "text/x-python",
   "name": "python",
   "nbconvert_exporter": "python",
   "pygments_lexer": "ipython3",
   "version": "3.11.3"
  }
 },
 "nbformat": 4,
 "nbformat_minor": 5
}
