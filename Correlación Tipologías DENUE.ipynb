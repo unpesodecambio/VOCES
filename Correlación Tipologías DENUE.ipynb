{
 "cells": [
  {
   "cell_type": "code",
   "execution_count": 1,
   "id": "c1e2e7db-f8f9-4b9d-8267-970ecf65cfd7",
   "metadata": {},
   "outputs": [],
   "source": [
    "import pandas as pd"
   ]
  },
  {
   "cell_type": "code",
   "execution_count": 2,
   "id": "81b6c155-f450-4192-9ea5-7ed0d87f16db",
   "metadata": {},
   "outputs": [],
   "source": [
    "# Ruta de tu archivo Excel\n",
    "archivo = r'C:\\Users\\ADMIN\\Desktop\\Tipo Denue.xlsx'\n",
    "\n",
    "# Leer el archivo Excel\n",
    "df = pd.read_excel(archivo)"
   ]
  },
  {
   "cell_type": "code",
   "execution_count": 4,
   "id": "c48924b3-a7bf-4085-8b12-6ad68c04c242",
   "metadata": {},
   "outputs": [
    {
     "name": "stdout",
     "output_type": "stream",
     "text": [
      "TIPOLOGIA    A1    A2    A3   B1    B2    B3   B3'   DH\n",
      "CVE                                                    \n",
      "00          549  2256   667  222  2650  2882  7420  401\n",
      "A1          869  2653  1222  167  1041  1808   270   26\n",
      "A2          189   296   140   18   104   188    13    5\n",
      "B1          231   397   202   38   123   273    27   13\n",
      "B2          576  1419   671  113   604  1155   103    5\n",
      "C1          226   407   184   36   137   305    29    9\n",
      "C2         1472  2950  1402  257  1202  2490   242   37\n",
      "C2+         428   993   444  184  1149  1813  1500   31\n"
     ]
    }
   ],
   "source": [
    "# Crear una tabla de contingencia entre las columnas CVE y TIPOLOGIA\n",
    "tabla_contingencia = pd.crosstab(df['CVE'], df['TIPOLOGIA'])\n",
    "\n",
    "print(tabla_contingencia)"
   ]
  },
  {
   "cell_type": "code",
   "execution_count": 9,
   "id": "1380371a-ce30-4474-9713-c2d2f38c000b",
   "metadata": {},
   "outputs": [],
   "source": [
    "output_file = r'C:\\Users\\ADMIN\\Desktop\\tabla_contingencia.xlsx'\n",
    "tabla_contingencia.to_excel(output_file)"
   ]
  },
  {
   "cell_type": "code",
   "execution_count": 10,
   "id": "6367399a-644f-4981-8214-c4ffacdff6a5",
   "metadata": {},
   "outputs": [
    {
     "name": "stdout",
     "output_type": "stream",
     "text": [
      "Residuos estandarizados (relación fuerte cuanto mayor es el valor absoluto):\n",
      "TIPOLOGIA         A1         A2         A3        B1        B2         B3  \\\n",
      "CVE                                                                         \n",
      "00        -25.424471 -26.097521 -24.778901 -6.987435  5.249430 -13.826954   \n",
      "A1          5.044824  19.108425  15.112197  0.001319 -2.675204   1.124270   \n",
      "A2         10.995466   5.361099   4.727854 -0.394548 -2.575474  -1.406535   \n",
      "B1         10.326186   5.805735   6.449999  2.110233 -4.439413  -0.711923   \n",
      "B2          7.472276  11.098104   9.901268  1.701642 -1.888997   4.377929   \n",
      "C1          9.519564   5.937148   4.561120  1.592310 -3.665061   0.799237   \n",
      "C2         18.459319  13.813651  12.984592  3.370003 -5.568415   6.248890   \n",
      "C2+        -6.839658 -12.870681  -7.953184  4.156271  7.608568  10.131048   \n",
      "\n",
      "TIPOLOGIA        B3'         DH  \n",
      "CVE                              \n",
      "00         72.322251  16.482418  \n",
      "A1        -32.504169  -6.401160  \n",
      "A2        -12.578547  -1.594885  \n",
      "B1        -14.132056  -0.205564  \n",
      "B2        -26.447557  -6.288433  \n",
      "C1        -14.200930  -1.351349  \n",
      "C2        -38.466478  -6.707783  \n",
      "C2+         6.814545  -4.578604  \n",
      "Residuos estandarizados guardados en C:\\Users\\ADMIN\\Desktop\\residuos_estandarizados.xlsx\n"
     ]
    }
   ],
   "source": [
    "import pandas as pd\n",
    "from scipy.stats import chi2_contingency\n",
    "\n",
    "# Ruta de tu archivo Excel original\n",
    "archivo = r'C:\\Users\\ADMIN\\Desktop\\Tipo Denue.xlsx'\n",
    "\n",
    "# Leer el archivo Excel\n",
    "df = pd.read_excel(archivo)\n",
    "\n",
    "# Crear tabla de contingencia (frecuencias observadas)\n",
    "tabla_contingencia = pd.crosstab(df['CVE'], df['TIPOLOGIA'])\n",
    "\n",
    "# Realizar el test chi-cuadrado para obtener las frecuencias esperadas\n",
    "chi2, p, dof, expected = chi2_contingency(tabla_contingencia)\n",
    "\n",
    "# Convertir las frecuencias esperadas a un DataFrame para manipularlas mejor\n",
    "frecuencias_esperadas = pd.DataFrame(expected, index=tabla_contingencia.index, columns=tabla_contingencia.columns)\n",
    "\n",
    "# Calcular los residuos estandarizados (observado - esperado) / sqrt(esperado)\n",
    "residuos_estandarizados = (tabla_contingencia - frecuencias_esperadas) / frecuencias_esperadas**0.5\n",
    "\n",
    "# Mostrar las combinaciones con residuos estandarizados más altos (mayor relación)\n",
    "print('Residuos estandarizados (relación fuerte cuanto mayor es el valor absoluto):')\n",
    "print(residuos_estandarizados)\n",
    "\n",
    "# Guardar los residuos estandarizados en un archivo Excel para análisis adicional\n",
    "output_file = r'C:\\Users\\ADMIN\\Desktop\\residuos_estandarizados.xlsx'\n",
    "residuos_estandarizados.to_excel(output_file)\n",
    "\n",
    "print(f'Residuos estandarizados guardados en {output_file}')"
   ]
  },
  {
   "cell_type": "code",
   "execution_count": 8,
   "id": "f67d1980-5d25-4bf8-a34c-1a0a53891f1f",
   "metadata": {},
   "outputs": [
    {
     "name": "stdout",
     "output_type": "stream",
     "text": [
      "Estadístico chi-cuadrado: 14419.58273255434\n",
      "Valor p: 0.0\n",
      "Grados de libertad: 49\n",
      "Frecuencias esperadas:\n",
      "[[1549.94452566 3882.03066109 1683.77233493  353.34638415 2393.19628302\n",
      "  3726.0120161  3278.78132698  179.91646807]\n",
      " [ 732.46630485 1834.55382212  795.71009152  166.98295716 1130.96669537\n",
      "  1760.82318307 1549.47277352   85.02417239]\n",
      " [  86.648509    217.02206957   94.13005427   19.75356978  133.78987844\n",
      "   208.29996195  183.29785913   10.05809785]\n",
      " [ 118.56207318  296.95359782  128.79915086   27.02901889  183.06610859\n",
      "   285.01904552  250.80840326   13.76260189]\n",
      " [ 422.42284661 1058.01105481  458.89636112   96.30124367  652.2432059\n",
      "  1015.48963611  893.60110548   49.03454629]\n",
      " [ 121.1988064   303.55762722  131.66354916   27.63012437  187.13736407\n",
      "   291.35765926  256.3861975    14.06867202]\n",
      " [ 913.94628803 2289.09322492  992.85971201  208.3555965  1411.18138305\n",
      "  2197.09466685 1933.37888771  106.09024092]\n",
      " [ 594.81064627 1489.77794244  646.16874612  135.60110548  918.41908157\n",
      "  1429.90383113 1258.27344642   69.04520057]]\n"
     ]
    }
   ],
   "source": []
  },
  {
   "cell_type": "code",
   "execution_count": null,
   "id": "220dafb2-3113-44ea-be4a-bf2d46509320",
   "metadata": {},
   "outputs": [],
   "source": []
  }
 ],
 "metadata": {
  "kernelspec": {
   "display_name": "Python 3 (ipykernel)",
   "language": "python",
   "name": "python3"
  },
  "language_info": {
   "codemirror_mode": {
    "name": "ipython",
    "version": 3
   },
   "file_extension": ".py",
   "mimetype": "text/x-python",
   "name": "python",
   "nbconvert_exporter": "python",
   "pygments_lexer": "ipython3",
   "version": "3.11.3"
  }
 },
 "nbformat": 4,
 "nbformat_minor": 5
}
