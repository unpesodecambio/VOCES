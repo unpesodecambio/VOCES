{
 "cells": [
  {
   "cell_type": "code",
   "execution_count": 3,
   "id": "0b4e1e60-ef88-465c-8a94-56d06c5a144b",
   "metadata": {},
   "outputs": [],
   "source": [
    "import geopandas as gpd\n",
    "import pandas as pd\n",
    "import os\n",
    "import matplotlib.pyplot as plt"
   ]
  },
  {
   "cell_type": "markdown",
   "id": "31cbe8f1-bde4-4754-ad3f-4710bdadff1e",
   "metadata": {},
   "source": [
    "# 1. Recopilación de fuentes y categorización"
   ]
  },
  {
   "cell_type": "code",
   "execution_count": 1,
   "id": "b61f885b-9265-4907-ab13-3258ddcfd94c",
   "metadata": {},
   "outputs": [],
   "source": [
    "# #rutas (ALEJANDO - PERSONAL)\n",
    "\n",
    "# # Ruta base donde se encuentran los archivos shapefile\n",
    "# base_path = r\"C:\\Users\\Alejandro\\Downloads\\DATA\\SHP\"\n",
    "\n",
    "# output_path_excel = r\"C:\\Users\\Alejandro\\Downloads\\DATA\\Tratados\\NAC\\EQUIPAMIENTOS\\Diccionario_2020.xlsx\"\n",
    "# output_path_gpkg = r\"C:\\Users\\Alejandro\\Downloads\\DATA\\Tratados\\NAC\\EQUIPAMIENTOS\\Equipamientos_NAC_2020.gpkg\"\n",
    "\n",
    "#rutas (ALEJANDO - SSD)\n",
    "\n",
    "# Ruta base donde se encuentran los archivos shapefile\n",
    "base_path = r\"Z:\\VOCES\\DATA\\SHP\"\n",
    "\n",
    "output_path_excel = r\"Z:\\VOCES\\DATA\\Tratados\\NAC\\EQUIPAMIENTOS\\Diccionario_2020.xlsx\"\n",
    "output_path_gpkg = r\"Z:\\VOCES\\DATA\\Tratados\\NAC\\EQUIPAMIENTOS\\Equipamientos_NAC_2020.gpkg\""
   ]
  },
  {
   "cell_type": "code",
   "execution_count": 4,
   "id": "a4a26c04-d2cf-4d22-9ac6-0e29e0a4f13c",
   "metadata": {},
   "outputs": [
    {
     "name": "stdout",
     "output_type": "stream",
     "text": [
      "Total de registros en el archivo unido: 440164\n",
      "Centro de Asistencia Médica: ['Centro de Salud', 'Hospital', 'Centro de Rehabilitación']\n",
      "Escuela: ['Primaria', 'Preescolar', 'Secundaria', 'Medio Superior', 'Superior', 'Mixto']\n",
      "Templo: ['No Aplica']\n",
      "Cementerio: ['No Aplica']\n",
      "Pozo: ['Agua', 'Petróleo', 'Gas']\n",
      "Instalación Deportiva o Recreativa: ['Cancha', 'Parque', 'Unidad Deportiva', 'Jardín', 'Lienzo Charro', 'Áreas Verdes', 'Estadio', 'Plaza de Toros', 'Campo de Golf', 'Velódromo', 'Balneario', 'Hipódromo', 'Galgódromo', 'Zoológico', 'Alberca Olímpica', 'Campo de Tiro', 'Autódromo', 'Acuario']\n",
      "Tanque de Agua: ['Tanque Elevado', 'Caja de Agua']\n",
      "Instalación Gubernamental: ['Palacio de Gobierno', 'Palacio Municipal']\n",
      "Mercado: ['No Aplica']\n",
      "Plaza: ['No Aplica']\n",
      "Instalación Diversa: ['Monumento u Obelisco', 'Silo', 'Planta de Tratamiento de Agua', 'Gasolinera', 'Museo', 'Centro de Investigación', 'Teatro', 'Edificación Cultural', 'Centro de Espectáculos', 'Cine', 'Estación de Gas', 'Observatorio Astronómico', 'Reclusorio', 'Centro de Abastos', 'Aduana', 'Relleno Sanitario']\n",
      "Instalación de Comunicación: ['Antena de Microondas de Telefonía', 'Antena de Televisión', 'Antena de Radio', 'Instalación Terrestre de Telecomunicación', 'Torre de Microondas', 'Faro', 'Radiofaro o VOR (Very High Frecuency Omnidirectional Range)']\n",
      "Estación de Transporte Terrestre: ['Central de Autobuses', 'Estación de Ferrocarril', 'Estación de Metrobús', 'Estación de Tren Metropolitano (Metro)', 'Estación de Tren Ligero', 'Estación de Transporte Foráneo']\n",
      "Centro Comercial: ['No Aplica']\n",
      "Instalación de Servicios: ['Central de Policía', 'Centro de Asistencia Social', 'Central de Bomberos', 'Ayudantía']\n",
      "Subestación Eléctrica: ['No Aplica']\n",
      "Restricción de Paso a Peatones y/o Automóviles: ['Caseta']\n",
      "Infraestructura Urbana: ['Teléfono Público', 'Rampa para Silla de Ruedas', 'Alumbrado Público']\n",
      "Aeródromo Civil: ['Internacional', 'Nacional']\n",
      "Instalación Industrial: ['Aserradero', 'Planta Petroquímica']\n",
      "Zona Arqueológica: ['Pirámide', 'Monumento Histórico']\n",
      "Diccionario exportado exitosamente a Z:\\VOCES\\DATA\\Tratados\\NAC\\EQUIPAMIENTOS\\Diccionario_2020.xlsx\n"
     ]
    }
   ],
   "source": [
    "#1.2 Carga de capas de información puntual, de ambos años, en Jupyter\n",
    "\n",
    "# Lista para almacenar los GeoDataFrames de cada estado\n",
    "gdfs = []\n",
    "\n",
    "# Recorrer los números de estado (del 01 al 32)\n",
    "for i in range(1, 33):\n",
    "    # Formatear el número del estado como 'XX' (ejemplo: 01, 02, 03...32)\n",
    "    state_code = f\"{i:02d}\"\n",
    "    # Crear la ruta completa del archivo shapefile\n",
    "    file_path = os.path.join(base_path, f\"{state_code}sip.shp\")\n",
    "    \n",
    "    # Cargar el shapefile y añadirlo a la lista\n",
    "    gdf_state = gpd.read_file(file_path)\n",
    "    gdfs.append(gdf_state)\n",
    "\n",
    "# Unir todos los GeoDataFrames en uno solo\n",
    "gdf_2020 = gpd.pd.concat(gdfs, ignore_index=True)\n",
    "\n",
    "# Verificar la unión exitosa\n",
    "print(f\"Total de registros en el archivo unido: {len(gdf_2020)}\")\n",
    "\n",
    "#guardar en gpkg\n",
    "gdf_2020.to_file(output_path_gpkg, layer='Eq_full_2020')\n",
    "\n",
    "\n",
    "\n",
    "#1.3 Desplegado de campos únicos\n",
    "\n",
    "# Agrupar por 'GEOGRÁFICO' y obtener los valores únicos de 'TIPO' para cada uno\n",
    "diccionario_geografico_tipo = {}\n",
    "\n",
    "# Recorrer cada valor único de GEOGRAFICO\n",
    "for geografico in gdf_2020['GEOGRAFICO'].unique():\n",
    "    # Filtrar los datos correspondientes al valor de 'GEOGRAFICO' actual\n",
    "    subset = gdf_2020[gdf_2020['GEOGRAFICO'] == geografico]\n",
    "    \n",
    "    # Obtener los valores únicos de 'TIPO' asociados a este 'GEOGRAFICO'\n",
    "    tipos = subset['TIPO'].unique()\n",
    "    \n",
    "    # Añadir al diccionario, si no tiene subniveles, ponemos una lista vacía\n",
    "    diccionario_geografico_tipo[geografico] = list(tipos) if len(tipos) > 0 else []\n",
    "\n",
    "# Mostrar el diccionario creado\n",
    "for geo, tipos in diccionario_geografico_tipo.items():\n",
    "    print(f\"{geo}: {tipos}\")\n",
    "\n",
    "\n",
    "#1.4 Desplegado de valores únicos en campos X e Y\n",
    "#1.5 Exportación de ambas listas en .xlsx\n",
    "\n",
    "# Convertir el diccionario en un DataFrame para exportar a Excel\n",
    "data = []\n",
    "\n",
    "# Recorrer el diccionario y estructurarlo en filas\n",
    "for geografico, tipos in diccionario_geografico_tipo.items():\n",
    "    if tipos:  # Si hay subniveles en 'TIPO'\n",
    "        for tipo in tipos:\n",
    "            data.append([geografico, tipo])\n",
    "    else:\n",
    "        data.append([geografico, None])  # Si no hay subniveles, ponemos 'None' en 'TIPO'\n",
    "\n",
    "# Crear DataFrame\n",
    "df_diccionario = pd.DataFrame(data, columns=['GEOGRAFICO', 'TIPO'])\n",
    "\n",
    "# Exportar a archivo Excel\n",
    "df_diccionario.to_excel(output_path_excel, index=False)\n",
    "\n",
    "print(f\"Diccionario exportado exitosamente a {output_path_excel}\")\n"
   ]
  },
  {
   "cell_type": "markdown",
   "id": "f3ac358d-5600-45db-8ec4-d4a84648ce35",
   "metadata": {},
   "source": [
    "# 2. Ponderación y niveles de servicio"
   ]
  },
  {
   "cell_type": "code",
   "execution_count": 5,
   "id": "0c969a4a-1c48-46b2-806e-4f37995c4f44",
   "metadata": {},
   "outputs": [],
   "source": [
    "# #rutas (ALEJANDRO - PERSONAL)\n",
    "# equipamientos_gpkg = r\"C:\\Users\\Alejandro\\Downloads\\DATA\\Tratados\\NAC\\EQUIPAMIENTOS\\Equipamientos_NAC_2020.gpkg\"\n",
    "# Diccionario_comentado = r\"C:\\Users\\Alejandro\\Downloads\\DATA\\Tratados\\NAC\\EQUIPAMIENTOS\\Diccionario_pond_2020.xlsx\"\n",
    "\n",
    "#rutas (ALEJANDRO - SSD)\n",
    "equipamientos_gpkg = r\"Z:\\VOCES\\DATA\\Tratados\\NAC\\EQUIPAMIENTOS\\Equipamientos_NAC_2020.gpkg\"\n",
    "Diccionario_comentado = r\"Z:\\VOCES\\DATA\\\\Tratados\\NAC\\EQUIPAMIENTOS\\Diccionario_pond_2020.xlsx\""
   ]
  },
  {
   "cell_type": "code",
   "execution_count": 6,
   "id": "05b16e35-2f88-4945-a1b4-bfca8549b1d1",
   "metadata": {},
   "outputs": [
    {
     "name": "stdout",
     "output_type": "stream",
     "text": [
      "Exportado: Educación a la capa Educación en el geopackage\n",
      "Exportado: Salud a la capa Salud en el geopackage\n",
      "Exportado: Recreación a la capa Recreación en el geopackage\n",
      "Exportado: Servicios a la capa Servicios en el geopackage\n"
     ]
    }
   ],
   "source": [
    "# Cargar el diccionario actualizado con las nuevas columnas\n",
    "diccionario = pd.read_excel(Diccionario_comentado)\n",
    "\n",
    "# Unir el diccionario con el geodataframe gdf_2020 (asegurarse de que haya un campo en común, por ejemplo 'GEOGRAFICO' y 'TIPO')\n",
    "gdf_2020 = gdf_2020.merge(diccionario, on=['GEOGRAFICO', 'TIPO'], how='left')\n",
    "\n",
    "# Filtrar por categorías y exportar a archivos individuales\n",
    "\n",
    "# Crear una lista de categorías\n",
    "categorias = ['Educación', 'Salud', 'Recreación', 'Servicios']\n",
    "\n",
    "# Crear y exportar un GeoDataFrame por cada categoría a una capa dentro del geopackage\n",
    "for categoria in categorias:\n",
    "    # Filtrar los equipamientos de la categoría actual\n",
    "    gdf_categoria = gdf_2020[gdf_2020['CATEGORIA'] == categoria]\n",
    "    \n",
    "    # Exportar la categoría como una nueva capa en el geopackage\n",
    "    gdf_categoria.to_file(equipamientos_gpkg, layer=categoria, driver=\"GPKG\")\n",
    "    \n",
    "    print(f\"Exportado: {categoria} a la capa {categoria} en el geopackage\")"
   ]
  },
  {
   "cell_type": "markdown",
   "id": "0d816ed3-5a85-4674-bcba-ad8dbdda8dd5",
   "metadata": {},
   "source": [
    "# 3. Trabajo a nivel manzana"
   ]
  },
  {
   "cell_type": "code",
   "execution_count": null,
   "id": "e040c2f5-b36d-416b-874d-0eb146a4ff09",
   "metadata": {},
   "outputs": [],
   "source": [
    "# #rutas (ALEJANDRO - PERSONAL)\n",
    "manzanas_gpkg_path = r\"C:\\Users\\Alejandro\\Downloads\\DATA\\Tratados\\NAC\\MZ\\Manzanas_NAC.gpkg\"\n",
    "equipamientos_gpkg = r\"C:\\Users\\Alejandro\\Downloads\\DATA\\Tratados\\NAC\\EQUIPAMIENTOS\\Equipamientos_NAC_2020.gpkg\"\n",
    "\n",
    "#rutas (ALEJANDRO - SSD)\n",
    "manzanas_gpkg_path = r\"Z:\\\"\n",
    "equipamientos_gpkg = r\"Z:\\VOCES\\DATA\\Tratados\\NAC\\EQUIPAMIENTOS\\Equipamientos_NAC_2020.gpkg\""
   ]
  },
  {
   "cell_type": "code",
   "execution_count": null,
   "id": "38b10ad9-c034-4c9f-9e1b-b6cff864250c",
   "metadata": {},
   "outputs": [],
   "source": [
    "#3.1: Cargar el archivo de manzanas\n",
    "\n",
    "# Cargar el archivo de manzanas\n",
    "gdf_manzanas = gpd.read_file(manzanas_gpkg_path, layer='nombre_de_la_capa_de_manzanas')\n",
    "\n",
    "# Mostrar algunas filas para confirmar la carga\n",
    "gdf_manzanas.head()\n"
   ]
  },
  {
   "cell_type": "code",
   "execution_count": null,
   "id": "01dc31a1-54e3-4ab7-a503-b494353ff0da",
   "metadata": {},
   "outputs": [],
   "source": [
    "#leer gpkg equipamientos\n",
    "\n",
    "gdf_2020.read_file(equipamientos_gpkg, layer='Eq_full_2020')"
   ]
  },
  {
   "cell_type": "code",
   "execution_count": null,
   "id": "6becf984-52f7-4fa9-a684-1a5960e4de41",
   "metadata": {},
   "outputs": [],
   "source": [
    "#3.2: Conteo de equipamientos por manzana (con buffer de 10m)\n",
    "\n",
    "# Crear un buffer de 10 metros alrededor de las manzanas\n",
    "gdf_manzanas['buffer_10m'] = gdf_manzanas.geometry.buffer(10)\n",
    "\n",
    "# Inicializar las columnas para contar equipamientos en cada categoría\n",
    "gdf_manzanas['num_edu'] = 0\n",
    "gdf_manzanas['num_sal'] = 0\n",
    "gdf_manzanas['num_rec'] = 0\n",
    "gdf_manzanas['num_ser'] = 0\n",
    "\n",
    "# Filtrar equipamientos por categoría y contar cuántos caen dentro de cada buffer\n",
    "for categoria in categorias:\n",
    "    gdf_categoria = gdf_2020[gdf_2020['CATEGORIA'] == categoria]\n",
    "    \n",
    "    # Hacer un join espacial entre los buffers y los equipamientos\n",
    "    joined = gpd.sjoin(gdf_manzanas[['buffer_10m']], gdf_categoria, how='left', op='contains')\n",
    "\n",
    "    # Contar equipamientos por manzana\n",
    "    if categoria == 'Educación':\n",
    "        gdf_manzanas['num_edu'] = joined.groupby(joined.index)['index_right'].count()\n",
    "    elif categoria == 'Salud':\n",
    "        gdf_manzanas['num_sal'] = joined.groupby(joined.index)['index_right'].count()\n",
    "    elif categoria == 'Recreación':\n",
    "        gdf_manzanas['num_rec'] = joined.groupby(joined.index)['index_right'].count()\n",
    "    elif categoria == 'Servicios':\n",
    "        gdf_manzanas['num_ser'] = joined.groupby(joined.index)['index_right'].count()\n",
    "\n",
    "# Revisar el resultado\n",
    "gdf_manzanas.head()\n"
   ]
  },
  {
   "cell_type": "code",
   "execution_count": null,
   "id": "10dde319-b72f-45a7-b0f9-2f00c933661c",
   "metadata": {},
   "outputs": [],
   "source": [
    "#3.3: Aplicación de radios de influencia para los equipamientos\n",
    "\n",
    "# Definir los valores de radio en metros para cada nivel de servicio\n",
    "radio_niveles = {1: 1000, 2: 5000, 3: 12000}  # 1 km, 5 km, 12 km\n",
    "\n",
    "# Crear los buffers basados en el nivel de servicio (campo 'RADIO')\n",
    "gdf_2020['buffer_influencia'] = gdf_2020.apply(lambda row: row.geometry.buffer(radio_niveles[row['RADIO']]), axis=1)\n",
    "\n",
    "# Revisar el resultado\n",
    "gdf_2020.head()\n"
   ]
  },
  {
   "cell_type": "code",
   "execution_count": null,
   "id": "c57842d1-b3d7-4688-a4d4-8ce7d9220146",
   "metadata": {},
   "outputs": [],
   "source": [
    "# 3.4: Sumar los valores de ponderación por manzana\n",
    "\n",
    "# Inicializar las columnas de importancia por categoría\n",
    "gdf_manzanas['IMP_EDU'] = 0\n",
    "gdf_manzanas['IMP_SAL'] = 0\n",
    "gdf_manzanas['IMP_REC'] = 0\n",
    "gdf_manzanas['IMP_SER'] = 0\n",
    "\n",
    "# Realizar el join espacial entre los buffers de equipamientos y las manzanas\n",
    "for categoria in categorias:\n",
    "    gdf_categoria = gdf_2020[gdf_2020['CATEGORIA'] == categoria]\n",
    "\n",
    "    # Join espacial entre manzanas y equipamientos por categoría\n",
    "    joined = gpd.sjoin(gdf_manzanas, gdf_categoria[['buffer_influencia', 'IMPORTANCIA']], how='left', op='intersects')\n",
    "    \n",
    "    # Sumar la importancia de los equipamientos que caen dentro de cada manzana\n",
    "    if categoria == 'Educación':\n",
    "        gdf_manzanas['IMP_EDU'] = joined.groupby(joined.index)['IMPORTANCIA'].sum()\n",
    "    elif categoria == 'Salud':\n",
    "        gdf_manzanas['IMP_SAL'] = joined.groupby(joined.index)['IMPORTANCIA'].sum()\n",
    "    elif categoria == 'Recreación':\n",
    "        gdf_manzanas['IMP_REC'] = joined.groupby(joined.index)['IMPORTANCIA'].sum()\n",
    "    elif categoria == 'Servicios':\n",
    "        gdf_manzanas['IMP_SER'] = joined.groupby(joined.index)['IMPORTANCIA'].sum()\n",
    "\n",
    "# Revisar el resultado\n",
    "gdf_manzanas.head()\n"
   ]
  },
  {
   "cell_type": "code",
   "execution_count": null,
   "id": "c0021da0-4bf5-4b9e-bc7b-a41fa63872bf",
   "metadata": {},
   "outputs": [],
   "source": [
    "# 3.5: Visualización estadística de los valores de importancia por categoría\n",
    "\n",
    "# Resumen estadístico de las columnas de importancia\n",
    "print(gdf_manzanas[['IMP_EDU', 'IMP_SAL', 'IMP_REC', 'IMP_SER']].describe())\n",
    "\n",
    "# Visualización gráfica de los valores de importancia por categoría\n",
    "gdf_manzanas[['IMP_EDU', 'IMP_SAL', 'IMP_REC', 'IMP_SER']].plot(kind='box', title='Importancia por Categoría')\n",
    "plt.show()\n"
   ]
  }
 ],
 "metadata": {
  "kernelspec": {
   "display_name": "Python 3 (ipykernel)",
   "language": "python",
   "name": "python3"
  },
  "language_info": {
   "codemirror_mode": {
    "name": "ipython",
    "version": 3
   },
   "file_extension": ".py",
   "mimetype": "text/x-python",
   "name": "python",
   "nbconvert_exporter": "python",
   "pygments_lexer": "ipython3",
   "version": "3.11.5"
  }
 },
 "nbformat": 4,
 "nbformat_minor": 5
}
