{
 "cells": [
  {
   "cell_type": "markdown",
   "id": "44be87d2",
   "metadata": {},
   "source": [
    "# Información municipal"
   ]
  },
  {
   "cell_type": "code",
   "execution_count": null,
   "id": "68c6f271",
   "metadata": {},
   "outputs": [],
   "source": [
    "#1) su densidad media urbana - pob / area ha urbana\n",
    "#2) su densidad media residencial - viv / area ha urbana\n",
    "#3) sus tasas de crecimiento en 2010 y en 2020 - Sólo tengo la 2020\n",
    "#4) su porcentaje promedio de deshabitación 2010 y 2020 - sólo hay VIV_DESH 2020\n",
    "\n",
    "#5) Población 2010 y 2020\n",
    "\n",
    "#6) vivienda total 2010 y 2020\n",
    "#7) tasa de crecimiento de vivienda\n",
    "\n",
    "#ruta gpkg fin\n",
    "MAPA_TIPO_ruta = r\"C:\\Users\\Alejandro\\Downloads\\DATA\\Tratados\\NAC\\Mapa_Tipologías_NAC\""
   ]
  },
  {
   "cell_type": "markdown",
   "id": "ca380772",
   "metadata": {},
   "source": [
    "### paso 1 - subtipologías a mzna"
   ]
  },
  {
   "cell_type": "code",
   "execution_count": null,
   "id": "2a581812",
   "metadata": {},
   "outputs": [],
   "source": [
    "#Leer archivo manzanas base\n",
    "\n",
    "MAPA_TIPO_gdf = gpd.read_file(MAPA_TIPO_ruta, layer='Mapa_Tipologias')"
   ]
  },
  {
   "cell_type": "code",
   "execution_count": null,
   "id": "a983c3d1",
   "metadata": {},
   "outputs": [],
   "source": [
    "# Actualizar valores sin información de \"null\" a 0\n",
    "MAPA_TIPO_gdf = MAPA_TIPO_gdf.fillna(0)"
   ]
  },
  {
   "cell_type": "code",
   "execution_count": null,
   "id": "1e264b53",
   "metadata": {},
   "outputs": [],
   "source": [
    "#APLICAR SUBTIPOLOGÍAS A GPKG manzanas SIN FILTRAR\n",
    "\n",
    "# Función para calcular los rangos por rupturas naturales\n",
    "def calcular_rangos(group):\n",
    "    # Obtener los valores de deshabitación para el grupo\n",
    "    valores_deshabitacion_grupo = group['DESHABITACION']\n",
    "    \n",
    "    # Calcular los rangos por rupturas naturales\n",
    "    rangos_deshabitacion_grupo = jenks_breaks(valores_deshabitacion_grupo, n_classes=3)\n",
    "    \n",
    "    # Asignar subtipologías según los rangos calculados\n",
    "    group['R_DESHAB'] = np.select(\n",
    "        [\n",
    "            group['DESHABITACION'].between(rangos_deshabitacion_grupo[0], rangos_deshabitacion_grupo[1]),\n",
    "            group['DESHABITACION'].between(rangos_deshabitacion_grupo[1], rangos_deshabitacion_grupo[2])\n",
    "        ],\n",
    "        ['a', 'b'],\n",
    "        default='c'\n",
    "    )\n",
    "    \n",
    "    return group\n",
    "\n",
    "# Aplicar la función calcular_rangos a cada grupo\n",
    "MAPA_TIPO_gdf = MAPA_TIPO_gdf.groupby('CVE_MET').apply(calcular_rangos)\n",
    "\n",
    "# Crear el campo SUBTIPOLOGÍA\n",
    "MAPA_TIPO_gdf['SUBTIPOLOGÍA'] = MAPA_TIPO_gdf['TIPOLOGIA'].astype(str) + '-' + MAPA_TIPO_gdf['R_DESHAB'].astype(str)\n",
    "\n",
    "# Guardar el GeoPackage con los nuevos campos\n",
    "MAPA_TIPO_gdf.to_file(MAPA_TIPO_ruta, layer='Mapa_SubTipologias', driver='GPKG')"
   ]
  },
  {
   "cell_type": "markdown",
   "id": "0e602d95",
   "metadata": {},
   "source": [
    "### paso 2 - crear gpkg municipal"
   ]
  },
  {
   "cell_type": "code",
   "execution_count": null,
   "id": "2035d228",
   "metadata": {},
   "outputs": [],
   "source": [
    "#Crear gpkg Municipal\n",
    "MAPA_MUN_ruta = r\"C:\\Users\\Alejandro\\Downloads\\DATA\\Tratados\\NAC\\Mapa_Mun_NAC\"\n",
    "\n",
    "#Claves metro ruta\n",
    "CVE_METRO_ruta = r\"C:\\Users\\Alejandro\\Downloads\\DATA\\Claves_Metro.csv\"\n",
    "\n",
    "#TRATAR MAPA SUB-TIPOLOGÍAS\n",
    "#rutas shp base\n",
    "SHP_MUN_ruta = r\"C:\\Users\\Alejandro\\Documents\\1. Documentos\\UdG\\Trabajos\\9\\Tesis\\Datos\\Python\\Insumos\\areas_geoestadisticas_municipales.shp\"\n",
    "SHP_LOC_ruta = r\"C:\\Users\\Alejandro\\Documents\\1. Documentos\\UdG\\Trabajos\\9\\Tesis\\Datos\\Python\\Insumos\\poligonos_localidades_urbanas_y_rurales.shp\""
   ]
  },
  {
   "cell_type": "code",
   "execution_count": null,
   "id": "4cf78e24",
   "metadata": {},
   "outputs": [],
   "source": [
    "#Leer información municipal\n",
    "\n",
    "SHP_MUN_gdf = gpd.read_file(SHP_MUN_ruta)\n",
    "SHP_LOC_gdf = gpd.read_file(SHP_LOC_ruta)\n",
    "\n",
    "#Subir archivo con CVE_METRO\n",
    "CVE_METRO_df = pd.read_csv(CVE_METRO_ruta, dtype={'CVE_MET': str, 'CVEMUN':str})\n",
    "\n",
    "#crear campo CVEMUN\n",
    "\n",
    "def homologate_urban_id(row):\n",
    "    return f\"{row['CVE_ENT']}{row['CVE_MUN']}\"\n",
    "\n",
    "SHP_MUN_gdf['CVEMUN'] = SHP_MUN_gdf.apply(homologate_urban_id, axis=1)\n",
    "SHP_LOC_gdf['CVEMUN'] = SHP_LOC_gdf.apply(homologate_urban_id, axis=1)\n",
    "\n",
    "\n",
    "#Añadir claves a GPKG\n",
    "SHP_MUN_gdf = SHP_MUN_gdf.merge(CVE_METRO_df[['CVEMUN', 'CVE_MET', 'NOM_MET']], on='CVEMUN', how='left')\n",
    "\n",
    "#FILTRAR MUNICIPIOS ZONAS METROPOLITANAS\n",
    "valores_filtro = CVE_METRO_df['CVEMUN'].unique()\n",
    "\n",
    "SHP_MUN_gdf = SHP_MUN_gdf[(SHP_MUN_gdf['CVEMUN'].isin(valores_filtro))]\n",
    "SHP_LOC_gdf = SHP_LOC_gdf[(SHP_LOC_gdf['CVEMUN'].isin(valores_filtro))]\n",
    "\n",
    "# Asegurarse de que ambas capas estén en el mismo sistema de referencia de coordenadas (CRS)\n",
    "if SHP_LOC_gdf.crs != MAPA_TIPO_gdf.crs:\n",
    "    SHP_LOC_gdf = SHP_LOC_gdf.to_crs(MAPA_TIPO_gdf.crs)\n",
    "\n",
    "# Calcular el área de cada polígono de localidades urbanas en hectáreas\n",
    "SHP_LOC_gdf['area_ha'] = SHP_LOC_gdf.geometry.area / 10000\n",
    "\n",
    "# Agrupar las localidades urbanas por municipio y sumar las áreas\n",
    "area_por_municipio = SHP_LOC_gdf.dissolve(by='CVEMUN', aggfunc='sum')\n",
    "\n",
    "# Renombrar la columna de área para claridad\n",
    "area_por_municipio.rename(columns={'area_ha': 'loc_urb_ha'}, inplace=True)\n",
    "\n",
    "# Unir la suma de áreas a la capa de delimitaciones municipales\n",
    "SHP_MUN_gdf = SHP_MUN_gdf.merge(area_por_municipio[['loc_urb_ha']], on='CVEMUN', how='left')\n",
    "\n",
    "# Guardar el resultado en un nuevo archivo shapefile\n",
    "SHP_MUN_gdf.to_file(MAPA_MUN_ruta, layer='DATOS_MUN', driver='GPKG')"
   ]
  },
  {
   "cell_type": "markdown",
   "id": "0b4ec3e4",
   "metadata": {},
   "source": [
    "### paso 3 - crear sumas a los datos de manzana"
   ]
  },
  {
   "cell_type": "code",
   "execution_count": null,
   "id": "7a62655a",
   "metadata": {},
   "outputs": [],
   "source": [
    "#Crear campos necesarios a SHP por Manzana\n",
    "\n",
    "# Agrupar las localidades urbanas por municipio y sumar las áreas\n",
    "datos_por_municipio = MAPA_TIPO_gdf.dissolve(by='CVEMUN', aggfunc='sum')"
   ]
  },
  {
   "cell_type": "code",
   "execution_count": null,
   "id": "d36eeb4c",
   "metadata": {},
   "outputs": [],
   "source": [
    "#Traer promedio deshab por mun\n",
    "\n",
    "MAPA_TIPO_gdf['PROM_DESHAB_MUN'] = MAPA_TIPO_gdf.groupby('CVEMUN')['DESHABITACION'].transform('mean')"
   ]
  },
  {
   "cell_type": "code",
   "execution_count": null,
   "id": "8be1bbad",
   "metadata": {},
   "outputs": [],
   "source": [
    "MAPA_TIPO_gdfA.columns"
   ]
  },
  {
   "cell_type": "code",
   "execution_count": null,
   "id": "4ac28cd2",
   "metadata": {},
   "outputs": [],
   "source": [
    "MAPA_TIPO_gdfA = MAPA_TIPO_gdf.drop(columns = ['CVEGEO', 'CVE_ENT', 'CVE_MUN', 'CVE_LOC', 'CVE_AGEB', 'CVE_MZA',\n",
    "       'AMBITO', 'TIPOMZA', 'POPTOT2010', 'POPTOT2020', 'VIVTOT2010',\n",
    "       'VIVTOT2020', 'VIVPARDES2020', 'CVE_MET', 'NOM_MET',\n",
    "       'area_ha', 'FILTRADO', 'DESHABITACION', 'PROM_DESHAB', 'LIM_INF',\n",
    "       'LIM_SUP', 'DIFPOP', 'DIFVIV', 'RELPOP', 'RELVIV', 'CVEPOP', 'CVEVIV',\n",
    "       'CVE', 'TIPOLOGIA', 'R_DESHAB', 'SUBTIPOLOGÍA'])"
   ]
  },
  {
   "cell_type": "code",
   "execution_count": null,
   "id": "d3aa313d",
   "metadata": {},
   "outputs": [],
   "source": [
    "#Traer columnas necesarias\n",
    "\n",
    "# Unir la suma de áreas a la capa de delimitaciones municipales\n",
    "print('datos por municipio')\n",
    "SHP_MUN_gdf1 = SHP_MUN_gdf.merge(datos_por_municipio[['POPTOT2010', 'POPTOT2020', 'VIVTOT2010', 'VIVTOT2020', 'VIVPARDES2020', 'area_ha']], on='CVEMUN', how='left')\n"
   ]
  },
  {
   "cell_type": "code",
   "execution_count": null,
   "id": "8970ba0f",
   "metadata": {},
   "outputs": [],
   "source": [
    "MAPA_TIPO_gdfB = pd.DataFrame(MAPA_TIPO_gdfA)"
   ]
  },
  {
   "cell_type": "code",
   "execution_count": null,
   "id": "7cb5b9e8",
   "metadata": {},
   "outputs": [],
   "source": [
    "MAPA_TIPO_gdfC = MAPA_TIPO_gdfB.drop(columns = ['geometry'])"
   ]
  },
  {
   "cell_type": "code",
   "execution_count": null,
   "id": "84360626",
   "metadata": {},
   "outputs": [],
   "source": [
    "MAPA_TIPO_gdfD = MAPA_TIPO_gdfC.drop_duplicates()"
   ]
  },
  {
   "cell_type": "code",
   "execution_count": null,
   "id": "bb7d11e9",
   "metadata": {},
   "outputs": [],
   "source": [
    "print('Mapa gdf')\n",
    "SHP_MUN_gdf2 = SHP_MUN_gdf1.merge(MAPA_TIPO_gdfD[['CVEMUN', 'PROM_DESHAB_MUN']], on='CVEMUN', how='left')\n",
    "print('Fin')"
   ]
  },
  {
   "cell_type": "code",
   "execution_count": null,
   "id": "70746da8",
   "metadata": {},
   "outputs": [],
   "source": [
    "SHP_MUN_gdf = SHP_MUN_gdf2"
   ]
  },
  {
   "cell_type": "code",
   "execution_count": null,
   "id": "e8a536ab",
   "metadata": {},
   "outputs": [],
   "source": [
    "# Guardar el resultado en un nuevo archivo shapefile\n",
    "SHP_MUN_gdf.to_file(MAPA_MUN_ruta, layer='DATOS_MUN', driver='GPKG')"
   ]
  },
  {
   "cell_type": "code",
   "execution_count": null,
   "id": "05a443e8",
   "metadata": {},
   "outputs": [],
   "source": [
    "SHP_MUN_gdf.columns"
   ]
  },
  {
   "cell_type": "markdown",
   "id": "53314097",
   "metadata": {},
   "source": [
    "### paso extra - prueba AMG\n",
    "# hay que arreglar:\n",
    "\n",
    "### 1. Descargar shps 2020\n",
    "### volver a sacar áreas 2020\n",
    "### Revisar metodología completa"
   ]
  },
  {
   "cell_type": "code",
   "execution_count": null,
   "id": "82dffa14",
   "metadata": {},
   "outputs": [],
   "source": [
    "#INSERTAR MUN NECESARIOS - AMG SEDATU\n",
    "entidad = ['14']\n",
    "municipios = ['039', '051','070','097', '098', '101', '120']"
   ]
  },
  {
   "cell_type": "code",
   "execution_count": null,
   "id": "cb3de440",
   "metadata": {},
   "outputs": [],
   "source": [
    "#carga metodología AMG\n",
    "SHP_AMG_ruta = r\"C:\\Users\\Alejandro\\Downloads\\DATA\\Tratados\\AMG\\Mapa_Tipologías_AMG.gpkg\"\n"
   ]
  },
  {
   "cell_type": "code",
   "execution_count": null,
   "id": "df304872",
   "metadata": {},
   "outputs": [],
   "source": [
    "AMG_gdf = gpd.read_file(SHP_AMG_ruta, layer='Mapa_Tipologias')\n",
    "AMG_FILTRO_gdf = gpd.read_file(SHP_AMG_ruta, layer='Mapa_Tipologias_Filtrado')"
   ]
  },
  {
   "cell_type": "code",
   "execution_count": null,
   "id": "d36011f6",
   "metadata": {},
   "outputs": [],
   "source": [
    "#Crear campo CVEMUN\n",
    "def homologate_municipio_id(row):\n",
    "    return f\"{row['CVE_ENT']}{row['CVE_MUN']}\"\n",
    "\n",
    "AMG_gdf['CVEMUN'] = AMG_gdf.apply(homologate_municipio_id, axis=1)\n",
    "AMG_FILTRO_gdf['CVEMUN'] = AMG_FILTRO_gdf.apply(homologate_municipio_id, axis=1)\n"
   ]
  },
  {
   "cell_type": "code",
   "execution_count": null,
   "id": "a264d7bb",
   "metadata": {},
   "outputs": [],
   "source": [
    "#Leer shp base mun\n",
    "\n",
    "MAPA_CM = r\"C:\\Users\\Alejandro\\Documents\\1. Documentos\\UdG\\Trabajos\\9\\Tesis\\Datos\\Python\\Tratados\\Mapa_CM_2017.gpkg\"\n",
    "\n",
    "MAPA_CM_gdf = gpd.read_file(MAPA_CM, layer='BASE_DATOS')"
   ]
  },
  {
   "cell_type": "code",
   "execution_count": null,
   "id": "538747b0",
   "metadata": {},
   "outputs": [],
   "source": [
    "#Filtrar ITER\n",
    "def filtrar_municipios_gpkg(dataframe, municipios, entidad):\n",
    "    return dataframe[(dataframe['CVE_MUN'].isin(municipios)) & (dataframe['CVE_ENT'].isin(entidad))]\n",
    "\n",
    "MAPA_AMG_gdf = filtrar_municipios_gpkg(MAPA_CM_gdf, municipios, entidad)"
   ]
  },
  {
   "cell_type": "code",
   "execution_count": null,
   "id": "9e11be9c",
   "metadata": {},
   "outputs": [],
   "source": [
    "MAPA_AMG_gdf = MAPA_AMG_gdf.drop(columns = ['Pobreza extrema Personas 2010',\n",
    "       'Pobreza extrema Personas 2020', 'P8A14AN_20',\n",
    "       'P15YM_AN_20','P8A14AN_10', 'P15YM_AN_10', 'ID_ENTIDAD_x',\n",
    "       'ID_MUNICIPIO_x', 'Bienes muebles, inmuebles e intangibles_EG17',\n",
    "       'Deuda pública_EG17', 'Disponibilidad final_EG17',\n",
    "       'Inversiones financieras y otras provisiones_EG17',\n",
    "       'Inversión pública_EG17', 'Materiales y suministros_EG17',\n",
    "       'Otros egresos_EG17', 'Servicios generales_EG17',\n",
    "       'Servicios personales_EG17', 'Total de egresos_EG17',\n",
    "       'Transferencias, asignaciones, subsidios y otras ayudas_EG17',\n",
    "       'ID_ENTIDAD_y', 'ID_MUNICIPIO_y',\n",
    "       'Aportaciones federales y estatales_IG17', 'Aprovechamientos_IG17',\n",
    "       'Contribuciones de Mejoras_IG17', 'Derechos_IG17',\n",
    "       'Disponibilidad inicial_IG17', 'Financiamiento_IG17', 'Impuestos_IG17',\n",
    "       'Otros ingresos_IG17', 'Participaciones federales_IG17',\n",
    "       'Productos_IG17', 'Total de ingresos_IG17', 'ID_ENTIDAD_IG17',\n",
    "       'ID_MUNICIPIO_IG17', 'Bienes muebles, inmuebles e intangibles_EG11',\n",
    "       'Deuda pública_EG11', 'Disponibilidad final_EG11',\n",
    "       'Inversiones financieras y otras provisiones_EG11',\n",
    "       'Inversión pública_EG11', 'Materiales y suministros_EG11',\n",
    "       'Otros egresos_EG11', 'Servicios generales_EG11',\n",
    "       'Servicios personales_EG11', 'Total de egresos_EG11',\n",
    "       'Transferencias, asignaciones, subsidios y otras ayudas_EG11',\n",
    "       'ID_ENTIDAD_IG11', 'ID_MUNICIPIO_IG11',\n",
    "       'Aportaciones federales y estatales_IG11', 'Aprovechamientos_IG11',\n",
    "       'Contribuciones de Mejoras_IG11',\n",
    "       'Cuotas y Aportaciones de Seguridad Social', 'Derechos_IG11',\n",
    "       'Disponibilidad inicial_IG11', 'Financiamiento_IG11', 'Impuestos_IG11',\n",
    "       'Otros ingresos_IG11', 'Participaciones federales_IG11',\n",
    "       'Productos_IG11', 'Total de ingresos_IG11'])"
   ]
  },
  {
   "cell_type": "code",
   "execution_count": null,
   "id": "61c8b8db",
   "metadata": {},
   "outputs": [],
   "source": [
    "MAPA_AMG_gdf.rename(columns={'CVEGEO': 'CVEMUN'}, inplace=True)\n",
    "MAPA_AMG_gdf.rename(columns={'area_total_ha': 'area_loc_ha'}, inplace=True)"
   ]
  },
  {
   "cell_type": "code",
   "execution_count": 38,
   "id": "5848e6f0",
   "metadata": {},
   "outputs": [],
   "source": [
    "#calcular área por municipio\n",
    "MAPA_AMG_gdf['area_mun_ha'] = MAPA_AMG_gdf.geometry.area / 10000"
   ]
  },
  {
   "cell_type": "code",
   "execution_count": null,
   "id": "15346eb6",
   "metadata": {},
   "outputs": [],
   "source": [
    "#calcular áreas por manzana y mzna filtrada\n",
    "\n",
    "# Agrupar las localidades urbanas por municipio y sumar las áreas\n",
    "AMG_gdf_MUN = AMG_gdf.dissolve(by='CVEMUN', aggfunc='sum')\n",
    "AMG_FILTRO_gdf_MUN = AMG_FILTRO_gdf.dissolve(by='CVEMUN', aggfunc='sum')\n",
    "\n",
    "# Renombrar la columna de área para claridad\n",
    "AMG_gdf_MUN.rename(columns={'area_ha': 'area_mzn_ha'}, inplace=True)\n",
    "AMG_FILTRO_gdf_MUN.rename(columns={'area_ha': 'area_mznFIL_ha'}, inplace=True)\n",
    "\n",
    "# Unir la suma de áreas a la capa de delimitaciones municipales\n",
    "MAPA_AMG_gdf = MAPA_AMG_gdf.merge(AMG_gdf_MUN[['area_mzn_ha']], on='CVEMUN', how='left')\n",
    "MAPA_AMG_gdf = MAPA_AMG_gdf.merge(AMG_FILTRO_gdf_MUN[['area_mznFIL_ha']], on='CVEMUN', how='left')"
   ]
  },
  {
   "cell_type": "code",
   "execution_count": null,
   "id": "59969f5f",
   "metadata": {},
   "outputs": [],
   "source": [
    "# Unir datos adicionales\n",
    "MAPA_AMG_gdf = MAPA_AMG_gdf.merge(AMG_gdf_MUN[['POPTOT2020', 'VIVTOT2020']], on='CVEMUN', how='left')\n",
    "MAPA_AMG_gdf = MAPA_AMG_gdf.merge(AMG_FILTRO_gdf_MUN[['POPTOT2020', 'VIVTOT2020']], on='CVEMUN', how='left', suffixes=('_M','_MF'))"
   ]
  },
  {
   "cell_type": "code",
   "execution_count": null,
   "id": "8442a0a5",
   "metadata": {},
   "outputs": [],
   "source": [
    "MAPA_AMG_gdf.columns"
   ]
  },
  {
   "cell_type": "code",
   "execution_count": null,
   "id": "d5054fb1",
   "metadata": {},
   "outputs": [],
   "source": [
    "#traer datos VIVTOT - MUN\n",
    "\n",
    "ITER_2020_ruta = r\"C:\\Users\\Alejandro\\Documents\\1. Documentos\\UdG\\Trabajos\\9\\Tesis\\Datos\\Python\\Insumos\\Censo 20.csv\"\n",
    "\n",
    "# Cargar archivos en un DataFrame\n",
    "ITER_2020_df = pd.read_csv(ITER_2020_ruta, dtype={'ENTIDAD': str, 'MUN': str, 'LOC': str, 'LATITUD': str})\n",
    "\n",
    "#Filtrar ITER\n",
    "localidad = ['0000']\n",
    "\n",
    "def filtrar_municipios_gpkg(dataframe, localidad):\n",
    "    return dataframe[(dataframe['LOC'].isin(localidad))]\n",
    "\n",
    "ITER_2020_df = filtrar_municipios_gpkg(ITER_2020_df, localidad)\n",
    "\n",
    "# 2.2 Homologación de ID urbana - CVEGEO\n",
    "def homologate_urban_id(row):\n",
    "    return f\"{row['ENTIDAD']}{row['MUN']}\"\n",
    "\n",
    "ITER_2020_df['CVEMUN'] = ITER_2020_df.apply(homologate_urban_id, axis=1)\n",
    "\n",
    "#reemplazar * con 0\n",
    "def replace(dataframe):\n",
    "    return dataframe.replace('*', '0')\n",
    "\n",
    "ITER_2020_df_rep = replace(ITER_2020_df)\n",
    "\n",
    "# Actualizar valores sin información de \"null\" a 0\n",
    "ITER_2020_df = ITER_2020_df_rep.fillna(0)"
   ]
  },
  {
   "cell_type": "code",
   "execution_count": 66,
   "id": "6b4b61a6",
   "metadata": {},
   "outputs": [],
   "source": [
    "MAPA_AMG_gdf = MAPA_AMG_gdf.merge(ITER_2020_df[['CVEMUN','VIVTOT']], on='CVEMUN', how='left')"
   ]
  },
  {
   "cell_type": "code",
   "execution_count": 67,
   "id": "d19024b3",
   "metadata": {},
   "outputs": [
    {
     "data": {
      "text/plain": [
       "Index(['CVE_ENT', 'CVE_MUN', 'NOM_MUN', 'CVEMUN', 'area_loc_ha',\n",
       "       'VACB_MILL_PIB10', 'VACB_MILL_PIB20', 'POBTOT_20', 'POBTOT_10',\n",
       "       'geometry', 'area_mun_ha', 'area_mzn_ha', 'area_mznFIL_ha',\n",
       "       'POPTOT2020_M', 'VIVTOT2020_M', 'POPTOT2020_MF', 'VIVTOT2020_MF',\n",
       "       'VIVTOT'],\n",
       "      dtype='object')"
      ]
     },
     "execution_count": 67,
     "metadata": {},
     "output_type": "execute_result"
    }
   ],
   "source": [
    "MAPA_AMG_gdf.columns"
   ]
  },
  {
   "cell_type": "code",
   "execution_count": 69,
   "id": "a37c32ef",
   "metadata": {},
   "outputs": [],
   "source": [
    "SHP_AMG_ruta = r\"C:\\Users\\Alejandro\\Downloads\\DATA\\Tratados\\AMG\\Mapa_MUN_AMG.gpkg\"\n",
    "\n",
    "# Guardar el resultado en un nuevo archivo shapefile\n",
    "MAPA_AMG_gdf.to_file(SHP_AMG_ruta, layer='BASE_DATOS', driver='GPKG')"
   ]
  },
  {
   "cell_type": "code",
   "execution_count": 69,
   "id": "98d36a02",
   "metadata": {},
   "outputs": [],
   "source": [
    "SHP_AMG_ruta = r\"C:\\Users\\Alejandro\\Downloads\\DATA\\Tratados\\AMG\\Mapa_MUN_AMG.gpkg\"\n",
    "\n",
    "# Guardar el resultado en un nuevo archivo shapefile\n",
    "MAPA_AMG_gdf.to_file(SHP_AMG_ruta, layer='BASE_DATOS', driver='GPKG')"
   ]
  },
  {
   "cell_type": "code",
   "execution_count": 69,
   "id": "80d637d9",
   "metadata": {},
   "outputs": [],
   "source": [
    "####TABLA DMU - AMG - 2020\n",
    "\n",
    "#1) su densidad media urbana - pob / area ha urbana\n",
    "### LOCALIDAD, AGEB, MZNA, MZNA_FILTRO\n",
    "MAPA_AMG_gdf['1_1_DMU_mun_2020'] = MAPA_AMG_gdf['POBTOT_20']/MAPA_AMG_gdf['area_mun_ha']\n",
    "MAPA_AMG_gdf['1_2_DMU_loc_2020'] = MAPA_AMG_gdf['POBTOT_20']/MAPA_AMG_gdf['area_loc_ha']\n",
    "MAPA_AMG_gdf['1_3_DMU_mza_2020'] = MAPA_AMG_gdf['POPTOT2020_M']/MAPA_AMG_gdf['area_mzn_ha']\n",
    "MAPA_AMG_gdf['1_4_DMU_mza_fil_2020'] = MAPA_AMG_gdf['POPTOT2020_MF']/MAPA_AMG_gdf['area_mznFIL_ha']\n",
    "\n",
    "#2) su densidad media residencial - viv / area ha urbana NO; ES POB TOT / ÁREA MZNA FIL\n",
    "### LOCALIDAD, AGEB, MZNA, MZNA_FILTRO\n",
    "MAPA_AMG_gdf['2_1_DMR_mun_2020'] = MAPA_AMG_gdf['VIVTOT']/MAPA_AMG_gdf['area_mun_ha']\n",
    "MAPA_AMG_gdf['2_2_DMR_loc_2020'] = MAPA_AMG_gdf['VIVTOT']/MAPA_AMG_gdf['area_loc_ha']\n",
    "MAPA_AMG_gdf['2_3_DMR_mza_2020'] = MAPA_AMG_gdf['VIVTOT2020_M']/MAPA_AMG_gdf['area_mzn_ha']\n",
    "MAPA_AMG_gdf['2_4_DMR_mza_fil_2020'] = MAPA_AMG_gdf['VIVTOT2020_MF']/MAPA_AMG_gdf['area_mznFIL_ha']"
   ]
  },
  {
   "cell_type": "code",
   "execution_count": 71,
   "id": "0f58c527",
   "metadata": {},
   "outputs": [],
   "source": [
    "MAPA_AMG_gdf = MAPA_AMG_gdf.drop(columns = ['CVE_ENT', 'CVE_MUN', \n",
    "       'VACB_MILL_PIB10', 'VACB_MILL_PIB20', 'POBTOT_10'])"
   ]
  },
  {
   "cell_type": "code",
   "execution_count": 73,
   "id": "32dce4f3",
   "metadata": {},
   "outputs": [],
   "source": [
    "# Guardar el resultado en un nuevo archivo shapefile\n",
    "MAPA_AMG_gdf.to_file(SHP_AMG_ruta, layer='PRUEBA_DM', driver='GPKG')"
   ]
  },
  {
   "cell_type": "code",
   "execution_count": 74,
   "id": "3d7d0ce3",
   "metadata": {},
   "outputs": [],
   "source": [
    "MAPA_AMG_gdf = MAPA_AMG_gdf.drop(columns = ['geometry'])"
   ]
  },
  {
   "cell_type": "code",
   "execution_count": 75,
   "id": "5d1ed432",
   "metadata": {},
   "outputs": [],
   "source": [
    "# Guardar el resultado en un nuevo archivo CSV\n",
    "MAPA_AMG_gdf.to_csv(r\"C:\\Users\\Alejandro\\Downloads\\DATA\\Tratados\\AMG\\Ind_AMG.csv\", index=False)"
   ]
  },
  {
   "cell_type": "markdown",
   "id": "3e63e226",
   "metadata": {},
   "source": [
    "### paso 4 - crear campos necesarios"
   ]
  },
  {
   "cell_type": "code",
   "execution_count": null,
   "id": "21bb2041",
   "metadata": {},
   "outputs": [],
   "source": [
    "#NECESITO:\n",
    "#shp mza\n",
    "#shp agebs\n",
    "#shp localidad\n",
    "\n",
    "#censo ageb - mza -loc\n"
   ]
  },
  {
   "cell_type": "code",
   "execution_count": null,
   "id": "75c289e1",
   "metadata": {},
   "outputs": [],
   "source": [
    "#1) su densidad media urbana - pob / area ha urbana\n",
    "### LOCALIDAD, AGEB, MZNA, MZNA_FILTRO\n",
    "SHP_MUN_gdf['1_1_DMU_2020'] = SHP_MUN_gdf['POPTOT2020']/SHP_MUN_gdf['loc_urb_ha']\n",
    "SHP_MUN_gdf['1_2_DMU_2010'] =\n",
    "\n",
    "#2) su densidad media residencial - viv / area ha urbana\n",
    "### LOCALIDAD, AGEB, MZNA, MZNA_FILTRO\n",
    "SHP_MUN_gdf['2_1_DMR_2020'] = SHP_MUN_gdf['VIVTOT2020']/SHP_MUN_gdf['loc_urb_ha']\n",
    "SHP_MUN_gdf['2_2_DMR_2010'] =\n",
    "\n",
    "#3) sus tasas de crecimiento en 2010 y en 2020 - Sólo tengo la 2020\n",
    "SHP_MUN_gdf['3_1_TCP_2020'] = ((SHP_MUN_gdf['POPTOT2020']/SHP_MUN_gdf['POPTOT2010'])** (1/10)) - 1\n",
    "SHP_MUN_gdf['3_2_TCP_2010'] =\n",
    "\n",
    "#4) su porcentaje promedio de deshabitación 2010 y 2020 - sólo hay VIV_DESH 2020\n",
    "SHP_MUN_gdf['4_PPD_2020'] = SHP_MUN_gdf['VIVPARDES2020'] / SHP_MUN_gdf['VIVTOT2020']\n",
    "SHP_MUN_gdf['4_PPD_2010'] =\n",
    "\n",
    "#5) Población 2010 y 2020\n",
    "SHP_MUN_gdf['5_1_POB10'] = SHP_MUN_gdf['POPTOT2010']\n",
    "SHP_MUN_gdf['5_2_POB20'] = SHP_MUN_gdf['POPTOT2020']\n",
    "\n",
    "#6) vivienda total 2010 y 2020\n",
    "SHP_MUN_gdf['6_1_VIV10'] = SHP_MUN_gdf['VIVTOT2010']\n",
    "SHP_MUN_gdf['6_2_VIV20'] = SHP_MUN_gdf['VIVTOT2020']\n",
    "\n",
    "#7) tasa de crecimiento de vivienda\n",
    "SHP_MUN_gdf['7_TCV_2020'] = ((SHP_MUN_gdf['VIVTOT2020']/SHP_MUN_gdf['VIVTOT2010'])** (1/10)) - 1\n",
    "\n",
    "#8) PIB municipal\n",
    "SHP_MUN_gdf['8_1_PIB_2020'] =\n",
    "SHP_MUN_gdf['8_2_PIB_2010'] =\n"
   ]
  },
  {
   "cell_type": "code",
   "execution_count": null,
   "id": "1a3dbf13",
   "metadata": {},
   "outputs": [],
   "source": [
    "SHP_MUN_gdf.columns\n",
    "\n",
    "SHP_MUN_gdf1 = SHP_MUN_gdf.drop(columns = ['CVE_ENT', 'CVE_MUN', 'loc_urb_ha', 'POPTOT2010', 'POPTOT2020', 'VIVTOT2010',\n",
    "       'VIVTOT2020', 'VIVPARDES2020', 'area_ha', 'PROM_DESHAB_MUN'])\n",
    "\n",
    "# Guardar el resultado en un nuevo archivo shapefile\n",
    "SHP_MUN_gdf1.to_file(MAPA_MUN_ruta, layer='INDICADORES', driver='GPKG')"
   ]
  },
  {
   "cell_type": "code",
   "execution_count": 76,
   "id": "feac2f31",
   "metadata": {},
   "outputs": [],
   "source": [
    "SHP_MUN_gdf2 = SHP_MUN_gdf1.drop(columns = ['geometry'])\n",
    "\n",
    "SHP_MUN_gdf2.to_csv(r\"C:\\Users\\Alejandro\\Downloads\\DATA\\Tratados\\NAC\\Ind_Mun_NAC.csv\", index=False)"
   ]
  },
  {
   "cell_type": "code",
   "execution_count": null,
   "id": "6f1f22dc",
   "metadata": {},
   "outputs": [],
   "source": []
  }
 ],
 "metadata": {
  "kernelspec": {
   "display_name": "Python 3 (ipykernel)",
   "language": "python",
   "name": "python3"
  },
  "language_info": {
   "codemirror_mode": {
    "name": "ipython",
    "version": 3
   },
   "file_extension": ".py",
   "mimetype": "text/x-python",
   "name": "python",
   "nbconvert_exporter": "python",
   "pygments_lexer": "ipython3",
   "version": "3.10.9"
  }
 },
 "nbformat": 4,
 "nbformat_minor": 5
}
