{
 "cells": [
  {
   "cell_type": "code",
   "execution_count": null,
   "id": "dd1f4b41-6270-4eda-91cc-f28b7c1159fe",
   "metadata": {},
   "outputs": [],
   "source": [
    "import pandas as pd\n",
    "from openpyxl import load_workbook\n",
    "from openpyxl.drawing.image import Image\n",
    "import matplotlib.pyplot as plt\n",
    "\n",
    "# Cargar la base de datos\n",
    "df = pd.read_excel('metropolis_data.xlsx')\n",
    "\n",
    "# Cargar plantilla de Excel\n",
    "template_path = 'ficha_template.xlsx'\n",
    "wb = load_workbook(template_path)\n",
    "\n",
    "for index, row in df.iterrows():\n",
    "    # Crear una nueva hoja copiando la plantilla\n",
    "    ws = wb.copy_worksheet(wb.active)\n",
    "    ws.title = row['Metrópoli']\n",
    "\n",
    "    # Insertar datos en las celdas predefinidas\n",
    "    ws['B3'] = row['Nombre']\n",
    "    ws['B4'] = row['Población']\n",
    "    ws['B5'] = row['Indicador1']\n",
    "    ws['B6'] = row['Indicador2']\n",
    "\n",
    "    # Generar un gráfico de ejemplo\n",
    "    plt.figure(figsize=(4, 3))\n",
    "    plt.bar(['A', 'B', 'C'], [row['Indicador1'], row['Indicador2'], row['Indicador3']])\n",
    "    plt.savefig('temp_chart.png')\n",
    "\n",
    "    # Insertar gráfico en la hoja\n",
    "    img = Image('temp_chart.png')\n",
    "    ws.add_image(img, 'E5')\n",
    "\n",
    "# Guardar el nuevo archivo con todas las fichas\n",
    "wb.save('fichas_metropolis.xlsx')\n"
   ]
  }
 ],
 "metadata": {
  "kernelspec": {
   "display_name": "Python 3 (ipykernel)",
   "language": "python",
   "name": "python3"
  },
  "language_info": {
   "codemirror_mode": {
    "name": "ipython",
    "version": 3
   },
   "file_extension": ".py",
   "mimetype": "text/x-python",
   "name": "python",
   "nbconvert_exporter": "python",
   "pygments_lexer": "ipython3",
   "version": "3.12.7"
  }
 },
 "nbformat": 4,
 "nbformat_minor": 5
}
